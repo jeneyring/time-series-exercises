{
 "cells": [
  {
   "cell_type": "markdown",
   "id": "5d329968",
   "metadata": {},
   "source": [
    "# Acquiring Data:"
   ]
  },
  {
   "cell_type": "code",
   "execution_count": 1,
   "id": "e8c27015",
   "metadata": {},
   "outputs": [],
   "source": [
    "import pandas as pd\n",
    "\n",
    "import requests"
   ]
  },
  {
   "cell_type": "markdown",
   "id": "54b2db7e",
   "metadata": {},
   "source": [
    "Requests is a library that helps to make requests and get responses from different websites into dataframes/dictionaries."
   ]
  },
  {
   "cell_type": "code",
   "execution_count": 2,
   "id": "e72335af",
   "metadata": {},
   "outputs": [
    {
     "data": {
      "text/plain": [
       "<Response [200]>"
      ]
     },
     "execution_count": 2,
     "metadata": {},
     "output_type": "execute_result"
    }
   ],
   "source": [
    "#by using requests, it returns what that website status code is:\n",
    "response = requests.get('http://example.com')\n",
    "response"
   ]
  },
  {
   "cell_type": "markdown",
   "id": "ab011d50",
   "metadata": {},
   "source": [
    "Notes about Http status codes:\n",
    "\n",
    "- 200s: everythings good\n",
    "- 300s: redirecting\n",
    "- 400s: you did something wrong\n",
    "- 500s: something is wrong with the server\n"
   ]
  },
  {
   "cell_type": "code",
   "execution_count": 5,
   "id": "e07b1068",
   "metadata": {},
   "outputs": [
    {
     "name": "stdout",
     "output_type": "stream",
     "text": [
      "<!doctype html>\n",
      "<html>\n",
      "<head>\n",
      "    <title>Example Domain</title>\n",
      "\n",
      "    <meta charset=\"utf-8\" />\n",
      "    <meta http-equiv=\"Content-type\" content=\"text/html; charset=utf-8\" />\n",
      "    <meta name=\"viewport\" content=\"width=device-width, initial-scale=1\" />\n",
      "    <style type=\"text/css\">\n",
      "    body {\n",
      "        background-color: #f0f0f2;\n",
      "        margin: 0;\n",
      "        padding: 0;\n",
      "        font-family: -apple-system, system-ui, BlinkMacSystemFont, \"Segoe UI\", \"Open Sans\", \"Helvetica Neue\", Helvetica, Arial, sans-serif;\n",
      "        \n",
      "    }\n",
      "    div {\n",
      "        width: 600px;\n",
      "        margin: 5em auto;\n",
      "        padding: 2em;\n",
      "        background-color: #fdfdff;\n",
      "        border-radius: 0.5em;\n",
      "        box-shadow: 2px 3px 7px 2px rgba(0,0,0,0.02);\n",
      "    }\n",
      "    a:link, a:visited {\n",
      "        color: #38488f;\n",
      "        text-decoration: none;\n",
      "    }\n",
      "    @media (max-width: 700px) {\n",
      "        div {\n",
      "            margin: 0 auto;\n",
      "            width: auto;\n",
      "        }\n",
      "    }\n",
      "    </style>    \n",
      "</head>\n",
      "\n",
      "<body>\n",
      "<div>\n",
      "    <h1>Example Domain</h1>\n",
      "    <p>This domain is for use in illustrative examples in documents. You may use this\n",
      "    domain in literature without prior coordination or asking for permission.</p>\n",
      "    <p><a href=\"https://www.iana.org/domains/example\">More information...</a></p>\n",
      "</div>\n",
      "</body>\n",
      "</html>\n",
      "\n"
     ]
    }
   ],
   "source": [
    "#response.text returns the raw html data of the website\n",
    "print(response.text)"
   ]
  },
  {
   "cell_type": "markdown",
   "id": "a8f5f364",
   "metadata": {},
   "source": [
    "# Creating JSON API endpoints:"
   ]
  },
  {
   "cell_type": "markdown",
   "id": "002dc954",
   "metadata": {},
   "source": [
    "We can also hit API's and get structured data too!"
   ]
  },
  {
   "cell_type": "code",
   "execution_count": 6,
   "id": "6d3dfdc4",
   "metadata": {},
   "outputs": [
    {
     "data": {
      "text/plain": [
       "<Response [200]>"
      ]
     },
     "execution_count": 6,
     "metadata": {},
     "output_type": "execute_result"
    }
   ],
   "source": [
    "#using a quote generator url...\n",
    "response = requests.get('https://aphorisms.glitch.me')\n",
    "response"
   ]
  },
  {
   "cell_type": "code",
   "execution_count": 7,
   "id": "71df3288",
   "metadata": {},
   "outputs": [
    {
     "data": {
      "text/plain": [
       "'{\"quote\":\"One can choose to go back toward safety or forward toward growth. Growth must be chosen again and again; fear must be overcome again and again.\",\"author\":\"Abraham Maslow\"}'"
      ]
     },
     "execution_count": 7,
     "metadata": {},
     "output_type": "execute_result"
    }
   ],
   "source": [
    "response.text"
   ]
  },
  {
   "cell_type": "code",
   "execution_count": 8,
   "id": "c56eaf18",
   "metadata": {},
   "outputs": [
    {
     "data": {
      "text/plain": [
       "{'quote': 'One can choose to go back toward safety or forward toward growth. Growth must be chosen again and again; fear must be overcome again and again.',\n",
       " 'author': 'Abraham Maslow'}"
      ]
     },
     "execution_count": 8,
     "metadata": {},
     "output_type": "execute_result"
    }
   ],
   "source": [
    "#we can request and clarify to make the request a JSON (structured dictionary)\n",
    "data = response.json()\n",
    "data"
   ]
  },
  {
   "cell_type": "markdown",
   "id": "490d6762",
   "metadata": {},
   "source": [
    "### What is the difference between response.text and response.json()?"
   ]
  },
  {
   "cell_type": "code",
   "execution_count": 9,
   "id": "cf1ccce0",
   "metadata": {},
   "outputs": [
    {
     "name": "stdout",
     "output_type": "stream",
     "text": [
      "response.text type is: <class 'str'>\n",
      "response.json() type is: <class 'dict'>\n"
     ]
    }
   ],
   "source": [
    "print('response.text type is:', type(response.text))\n",
    "print('response.json() type is:', type(response.json()))"
   ]
  },
  {
   "cell_type": "markdown",
   "id": "1c8c4b15",
   "metadata": {},
   "source": [
    "### So now we can treat data just like a dictionary?"
   ]
  },
  {
   "cell_type": "code",
   "execution_count": 10,
   "id": "04ce8aa7",
   "metadata": {},
   "outputs": [
    {
     "data": {
      "text/plain": [
       "{'quote': 'One can choose to go back toward safety or forward toward growth. Growth must be chosen again and again; fear must be overcome again and again.',\n",
       " 'author': 'Abraham Maslow'}"
      ]
     },
     "execution_count": 10,
     "metadata": {},
     "output_type": "execute_result"
    }
   ],
   "source": [
    "data"
   ]
  },
  {
   "cell_type": "code",
   "execution_count": 11,
   "id": "ac15bc29",
   "metadata": {},
   "outputs": [
    {
     "data": {
      "text/plain": [
       "'One can choose to go back toward safety or forward toward growth. Growth must be chosen again and again; fear must be overcome again and again.'"
      ]
     },
     "execution_count": 11,
     "metadata": {},
     "output_type": "execute_result"
    }
   ],
   "source": [
    "data['quote']"
   ]
  },
  {
   "cell_type": "code",
   "execution_count": 12,
   "id": "3e4baab2",
   "metadata": {},
   "outputs": [
    {
     "data": {
      "text/plain": [
       "'Abraham Maslow'"
      ]
     },
     "execution_count": 12,
     "metadata": {},
     "output_type": "execute_result"
    }
   ],
   "source": [
    "data['author']"
   ]
  },
  {
   "cell_type": "markdown",
   "id": "22916a5c",
   "metadata": {},
   "source": [
    "# Let's use Codeup API:"
   ]
  },
  {
   "cell_type": "code",
   "execution_count": 13,
   "id": "96a754a6",
   "metadata": {},
   "outputs": [
    {
     "data": {
      "text/plain": [
       "{'api': '/api/v1', 'help': '/documentation'}"
      ]
     },
     "execution_count": 13,
     "metadata": {},
     "output_type": "execute_result"
    }
   ],
   "source": [
    "url = 'https://api.data.codeup.com'\n",
    "response = requests.get(url)\n",
    "response.json()"
   ]
  },
  {
   "cell_type": "markdown",
   "id": "be8896cf",
   "metadata": {},
   "source": [
    "### Response has told us things that we can add to the url to go to different directories in url"
   ]
  },
  {
   "cell_type": "code",
   "execution_count": 14,
   "id": "539e4c75",
   "metadata": {},
   "outputs": [
    {
     "data": {
      "text/plain": [
       "{'payload': '\\nThe API accepts GET requests for all endpoints, where endpoints are prefixed\\nwith\\n\\n    /api/{version}\\n\\nWhere version is \"v1\"\\n\\nValid endpoints:\\n\\n- /stores[/{store_id}]\\n- /items[/{item_id}]\\n- /sales[/{sale_id}]\\n\\nAll endpoints accept a `page` parameter that can be used to navigate through\\nthe results.\\n',\n",
       " 'status': 'ok'}"
      ]
     },
     "execution_count": 14,
     "metadata": {},
     "output_type": "execute_result"
    }
   ],
   "source": [
    "#let's use documentation\n",
    "url = 'https://api.data.codeup.com' + '/documentation'\n",
    "response = requests.get(url)\n",
    "response.json()"
   ]
  },
  {
   "cell_type": "code",
   "execution_count": 15,
   "id": "5a196718",
   "metadata": {},
   "outputs": [
    {
     "data": {
      "text/plain": [
       "'\\nThe API accepts GET requests for all endpoints, where endpoints are prefixed\\nwith\\n\\n    /api/{version}\\n\\nWhere version is \"v1\"\\n\\nValid endpoints:\\n\\n- /stores[/{store_id}]\\n- /items[/{item_id}]\\n- /sales[/{sale_id}]\\n\\nAll endpoints accept a `page` parameter that can be used to navigate through\\nthe results.\\n'"
      ]
     },
     "execution_count": 15,
     "metadata": {},
     "output_type": "execute_result"
    }
   ],
   "source": [
    "#it's a bit messy, let's clear it up a bit:\n",
    "response.json()['payload']"
   ]
  },
  {
   "cell_type": "code",
   "execution_count": 16,
   "id": "6be8e252",
   "metadata": {},
   "outputs": [
    {
     "name": "stdout",
     "output_type": "stream",
     "text": [
      "\n",
      "The API accepts GET requests for all endpoints, where endpoints are prefixed\n",
      "with\n",
      "\n",
      "    /api/{version}\n",
      "\n",
      "Where version is \"v1\"\n",
      "\n",
      "Valid endpoints:\n",
      "\n",
      "- /stores[/{store_id}]\n",
      "- /items[/{item_id}]\n",
      "- /sales[/{sale_id}]\n",
      "\n",
      "All endpoints accept a `page` parameter that can be used to navigate through\n",
      "the results.\n",
      "\n"
     ]
    }
   ],
   "source": [
    "#I can see above that there is some formatting to it, so I'm going\n",
    "#to print it:\n",
    "print(response.json()['payload'])\n"
   ]
  },
  {
   "cell_type": "markdown",
   "id": "0ac34cd8",
   "metadata": {},
   "source": [
    "### Above, the {} tells us that we can add in specifics to those variables to navigate and explore"
   ]
  },
  {
   "cell_type": "markdown",
   "id": "5c458cb4",
   "metadata": {},
   "source": [
    "# What is an endpoint?\n",
    "* An endpoint are the parts after the main url, called the domain.\n",
    "* In this case our endpoints go after .com in the url separated by slashes.\n",
    "Extra: .com, .gov, .net are known as TLD or Top Level Domains in a url\n",
    "\n",
    "### So with this info we can now start retrieving data from the api\n"
   ]
  },
  {
   "cell_type": "markdown",
   "id": "c37cb039",
   "metadata": {},
   "source": [
    "#### Example: Check out the stores data:"
   ]
  },
  {
   "cell_type": "code",
   "execution_count": 17,
   "id": "1c932767",
   "metadata": {},
   "outputs": [
    {
     "data": {
      "text/plain": [
       "{'payload': {'max_page': 1,\n",
       "  'next_page': None,\n",
       "  'page': 1,\n",
       "  'previous_page': None,\n",
       "  'stores': [{'store_address': '12125 Alamo Ranch Pkwy',\n",
       "    'store_city': 'San Antonio',\n",
       "    'store_id': 1,\n",
       "    'store_state': 'TX',\n",
       "    'store_zipcode': '78253'},\n",
       "   {'store_address': '9255 FM 471 West',\n",
       "    'store_city': 'San Antonio',\n",
       "    'store_id': 2,\n",
       "    'store_state': 'TX',\n",
       "    'store_zipcode': '78251'},\n",
       "   {'store_address': '2118 Fredericksburg Rdj',\n",
       "    'store_city': 'San Antonio',\n",
       "    'store_id': 3,\n",
       "    'store_state': 'TX',\n",
       "    'store_zipcode': '78201'},\n",
       "   {'store_address': '516 S Flores St',\n",
       "    'store_city': 'San Antonio',\n",
       "    'store_id': 4,\n",
       "    'store_state': 'TX',\n",
       "    'store_zipcode': '78204'},\n",
       "   {'store_address': '1520 Austin Hwy',\n",
       "    'store_city': 'San Antonio',\n",
       "    'store_id': 5,\n",
       "    'store_state': 'TX',\n",
       "    'store_zipcode': '78218'},\n",
       "   {'store_address': '1015 S WW White Rd',\n",
       "    'store_city': 'San Antonio',\n",
       "    'store_id': 6,\n",
       "    'store_state': 'TX',\n",
       "    'store_zipcode': '78220'},\n",
       "   {'store_address': '12018 Perrin Beitel Rd',\n",
       "    'store_city': 'San Antonio',\n",
       "    'store_id': 7,\n",
       "    'store_state': 'TX',\n",
       "    'store_zipcode': '78217'},\n",
       "   {'store_address': '15000 San Pedro Ave',\n",
       "    'store_city': 'San Antonio',\n",
       "    'store_id': 8,\n",
       "    'store_state': 'TX',\n",
       "    'store_zipcode': '78232'},\n",
       "   {'store_address': '735 SW Military Dr',\n",
       "    'store_city': 'San Antonio',\n",
       "    'store_id': 9,\n",
       "    'store_state': 'TX',\n",
       "    'store_zipcode': '78221'},\n",
       "   {'store_address': '8503 NW Military Hwy',\n",
       "    'store_city': 'San Antonio',\n",
       "    'store_id': 10,\n",
       "    'store_state': 'TX',\n",
       "    'store_zipcode': '78231'}]},\n",
       " 'status': 'ok'}"
      ]
     },
     "execution_count": 17,
     "metadata": {},
     "output_type": "execute_result"
    }
   ],
   "source": [
    "url = 'https://api.data.codeup.com/api/v1/stores'\n",
    "response = requests.get(url)\n",
    "data = response.json()\n",
    "data"
   ]
  },
  {
   "cell_type": "code",
   "execution_count": 18,
   "id": "bdba83fe",
   "metadata": {},
   "outputs": [
    {
     "data": {
      "text/plain": [
       "dict_keys(['payload', 'status'])"
      ]
     },
     "execution_count": 18,
     "metadata": {},
     "output_type": "execute_result"
    }
   ],
   "source": [
    "#what are the basic keys I can get from this?\n",
    "data.keys()\n"
   ]
  },
  {
   "cell_type": "code",
   "execution_count": 19,
   "id": "1e511f42",
   "metadata": {},
   "outputs": [
    {
     "data": {
      "text/plain": [
       "'ok'"
      ]
     },
     "execution_count": 19,
     "metadata": {},
     "output_type": "execute_result"
    }
   ],
   "source": [
    "#looking at status\n",
    "data['status']"
   ]
  },
  {
   "cell_type": "code",
   "execution_count": 20,
   "id": "f1a888a5",
   "metadata": {},
   "outputs": [
    {
     "data": {
      "text/plain": [
       "{'max_page': 1,\n",
       " 'next_page': None,\n",
       " 'page': 1,\n",
       " 'previous_page': None,\n",
       " 'stores': [{'store_address': '12125 Alamo Ranch Pkwy',\n",
       "   'store_city': 'San Antonio',\n",
       "   'store_id': 1,\n",
       "   'store_state': 'TX',\n",
       "   'store_zipcode': '78253'},\n",
       "  {'store_address': '9255 FM 471 West',\n",
       "   'store_city': 'San Antonio',\n",
       "   'store_id': 2,\n",
       "   'store_state': 'TX',\n",
       "   'store_zipcode': '78251'},\n",
       "  {'store_address': '2118 Fredericksburg Rdj',\n",
       "   'store_city': 'San Antonio',\n",
       "   'store_id': 3,\n",
       "   'store_state': 'TX',\n",
       "   'store_zipcode': '78201'},\n",
       "  {'store_address': '516 S Flores St',\n",
       "   'store_city': 'San Antonio',\n",
       "   'store_id': 4,\n",
       "   'store_state': 'TX',\n",
       "   'store_zipcode': '78204'},\n",
       "  {'store_address': '1520 Austin Hwy',\n",
       "   'store_city': 'San Antonio',\n",
       "   'store_id': 5,\n",
       "   'store_state': 'TX',\n",
       "   'store_zipcode': '78218'},\n",
       "  {'store_address': '1015 S WW White Rd',\n",
       "   'store_city': 'San Antonio',\n",
       "   'store_id': 6,\n",
       "   'store_state': 'TX',\n",
       "   'store_zipcode': '78220'},\n",
       "  {'store_address': '12018 Perrin Beitel Rd',\n",
       "   'store_city': 'San Antonio',\n",
       "   'store_id': 7,\n",
       "   'store_state': 'TX',\n",
       "   'store_zipcode': '78217'},\n",
       "  {'store_address': '15000 San Pedro Ave',\n",
       "   'store_city': 'San Antonio',\n",
       "   'store_id': 8,\n",
       "   'store_state': 'TX',\n",
       "   'store_zipcode': '78232'},\n",
       "  {'store_address': '735 SW Military Dr',\n",
       "   'store_city': 'San Antonio',\n",
       "   'store_id': 9,\n",
       "   'store_state': 'TX',\n",
       "   'store_zipcode': '78221'},\n",
       "  {'store_address': '8503 NW Military Hwy',\n",
       "   'store_city': 'San Antonio',\n",
       "   'store_id': 10,\n",
       "   'store_state': 'TX',\n",
       "   'store_zipcode': '78231'}]}"
      ]
     },
     "execution_count": 20,
     "metadata": {},
     "output_type": "execute_result"
    }
   ],
   "source": [
    "#looking at what payload holds\n",
    "data['payload']\n"
   ]
  },
  {
   "cell_type": "code",
   "execution_count": 21,
   "id": "a6e6c5ea",
   "metadata": {},
   "outputs": [
    {
     "data": {
      "text/plain": [
       "dict_keys(['max_page', 'next_page', 'page', 'previous_page', 'stores'])"
      ]
     },
     "execution_count": 21,
     "metadata": {},
     "output_type": "execute_result"
    }
   ],
   "source": [
    "#what are keys in payload?\n",
    "data['payload'].keys()\n"
   ]
  },
  {
   "cell_type": "code",
   "execution_count": 22,
   "id": "aba43fdb",
   "metadata": {},
   "outputs": [
    {
     "data": {
      "text/plain": [
       "[{'store_address': '12125 Alamo Ranch Pkwy',\n",
       "  'store_city': 'San Antonio',\n",
       "  'store_id': 1,\n",
       "  'store_state': 'TX',\n",
       "  'store_zipcode': '78253'},\n",
       " {'store_address': '9255 FM 471 West',\n",
       "  'store_city': 'San Antonio',\n",
       "  'store_id': 2,\n",
       "  'store_state': 'TX',\n",
       "  'store_zipcode': '78251'},\n",
       " {'store_address': '2118 Fredericksburg Rdj',\n",
       "  'store_city': 'San Antonio',\n",
       "  'store_id': 3,\n",
       "  'store_state': 'TX',\n",
       "  'store_zipcode': '78201'},\n",
       " {'store_address': '516 S Flores St',\n",
       "  'store_city': 'San Antonio',\n",
       "  'store_id': 4,\n",
       "  'store_state': 'TX',\n",
       "  'store_zipcode': '78204'},\n",
       " {'store_address': '1520 Austin Hwy',\n",
       "  'store_city': 'San Antonio',\n",
       "  'store_id': 5,\n",
       "  'store_state': 'TX',\n",
       "  'store_zipcode': '78218'},\n",
       " {'store_address': '1015 S WW White Rd',\n",
       "  'store_city': 'San Antonio',\n",
       "  'store_id': 6,\n",
       "  'store_state': 'TX',\n",
       "  'store_zipcode': '78220'},\n",
       " {'store_address': '12018 Perrin Beitel Rd',\n",
       "  'store_city': 'San Antonio',\n",
       "  'store_id': 7,\n",
       "  'store_state': 'TX',\n",
       "  'store_zipcode': '78217'},\n",
       " {'store_address': '15000 San Pedro Ave',\n",
       "  'store_city': 'San Antonio',\n",
       "  'store_id': 8,\n",
       "  'store_state': 'TX',\n",
       "  'store_zipcode': '78232'},\n",
       " {'store_address': '735 SW Military Dr',\n",
       "  'store_city': 'San Antonio',\n",
       "  'store_id': 9,\n",
       "  'store_state': 'TX',\n",
       "  'store_zipcode': '78221'},\n",
       " {'store_address': '8503 NW Military Hwy',\n",
       "  'store_city': 'San Antonio',\n",
       "  'store_id': 10,\n",
       "  'store_state': 'TX',\n",
       "  'store_zipcode': '78231'}]"
      ]
     },
     "execution_count": 22,
     "metadata": {},
     "output_type": "execute_result"
    }
   ],
   "source": [
    "#I want to look at the key of payload in the stores dictionary\n",
    "data['payload']['stores']\n"
   ]
  },
  {
   "cell_type": "code",
   "execution_count": 23,
   "id": "ccffb4c0",
   "metadata": {},
   "outputs": [
    {
     "data": {
      "text/html": [
       "<div>\n",
       "<style scoped>\n",
       "    .dataframe tbody tr th:only-of-type {\n",
       "        vertical-align: middle;\n",
       "    }\n",
       "\n",
       "    .dataframe tbody tr th {\n",
       "        vertical-align: top;\n",
       "    }\n",
       "\n",
       "    .dataframe thead th {\n",
       "        text-align: right;\n",
       "    }\n",
       "</style>\n",
       "<table border=\"1\" class=\"dataframe\">\n",
       "  <thead>\n",
       "    <tr style=\"text-align: right;\">\n",
       "      <th></th>\n",
       "      <th>store_address</th>\n",
       "      <th>store_city</th>\n",
       "      <th>store_id</th>\n",
       "      <th>store_state</th>\n",
       "      <th>store_zipcode</th>\n",
       "    </tr>\n",
       "  </thead>\n",
       "  <tbody>\n",
       "    <tr>\n",
       "      <th>0</th>\n",
       "      <td>12125 Alamo Ranch Pkwy</td>\n",
       "      <td>San Antonio</td>\n",
       "      <td>1</td>\n",
       "      <td>TX</td>\n",
       "      <td>78253</td>\n",
       "    </tr>\n",
       "    <tr>\n",
       "      <th>1</th>\n",
       "      <td>9255 FM 471 West</td>\n",
       "      <td>San Antonio</td>\n",
       "      <td>2</td>\n",
       "      <td>TX</td>\n",
       "      <td>78251</td>\n",
       "    </tr>\n",
       "    <tr>\n",
       "      <th>2</th>\n",
       "      <td>2118 Fredericksburg Rdj</td>\n",
       "      <td>San Antonio</td>\n",
       "      <td>3</td>\n",
       "      <td>TX</td>\n",
       "      <td>78201</td>\n",
       "    </tr>\n",
       "    <tr>\n",
       "      <th>3</th>\n",
       "      <td>516 S Flores St</td>\n",
       "      <td>San Antonio</td>\n",
       "      <td>4</td>\n",
       "      <td>TX</td>\n",
       "      <td>78204</td>\n",
       "    </tr>\n",
       "    <tr>\n",
       "      <th>4</th>\n",
       "      <td>1520 Austin Hwy</td>\n",
       "      <td>San Antonio</td>\n",
       "      <td>5</td>\n",
       "      <td>TX</td>\n",
       "      <td>78218</td>\n",
       "    </tr>\n",
       "    <tr>\n",
       "      <th>5</th>\n",
       "      <td>1015 S WW White Rd</td>\n",
       "      <td>San Antonio</td>\n",
       "      <td>6</td>\n",
       "      <td>TX</td>\n",
       "      <td>78220</td>\n",
       "    </tr>\n",
       "    <tr>\n",
       "      <th>6</th>\n",
       "      <td>12018 Perrin Beitel Rd</td>\n",
       "      <td>San Antonio</td>\n",
       "      <td>7</td>\n",
       "      <td>TX</td>\n",
       "      <td>78217</td>\n",
       "    </tr>\n",
       "    <tr>\n",
       "      <th>7</th>\n",
       "      <td>15000 San Pedro Ave</td>\n",
       "      <td>San Antonio</td>\n",
       "      <td>8</td>\n",
       "      <td>TX</td>\n",
       "      <td>78232</td>\n",
       "    </tr>\n",
       "    <tr>\n",
       "      <th>8</th>\n",
       "      <td>735 SW Military Dr</td>\n",
       "      <td>San Antonio</td>\n",
       "      <td>9</td>\n",
       "      <td>TX</td>\n",
       "      <td>78221</td>\n",
       "    </tr>\n",
       "    <tr>\n",
       "      <th>9</th>\n",
       "      <td>8503 NW Military Hwy</td>\n",
       "      <td>San Antonio</td>\n",
       "      <td>10</td>\n",
       "      <td>TX</td>\n",
       "      <td>78231</td>\n",
       "    </tr>\n",
       "  </tbody>\n",
       "</table>\n",
       "</div>"
      ],
      "text/plain": [
       "             store_address   store_city  store_id store_state store_zipcode\n",
       "0   12125 Alamo Ranch Pkwy  San Antonio         1          TX         78253\n",
       "1         9255 FM 471 West  San Antonio         2          TX         78251\n",
       "2  2118 Fredericksburg Rdj  San Antonio         3          TX         78201\n",
       "3          516 S Flores St  San Antonio         4          TX         78204\n",
       "4          1520 Austin Hwy  San Antonio         5          TX         78218\n",
       "5       1015 S WW White Rd  San Antonio         6          TX         78220\n",
       "6   12018 Perrin Beitel Rd  San Antonio         7          TX         78217\n",
       "7      15000 San Pedro Ave  San Antonio         8          TX         78232\n",
       "8       735 SW Military Dr  San Antonio         9          TX         78221\n",
       "9     8503 NW Military Hwy  San Antonio        10          TX         78231"
      ]
     },
     "execution_count": 23,
     "metadata": {},
     "output_type": "execute_result"
    }
   ],
   "source": [
    "#so I can now take the dictionary of stores from this key I input and \n",
    "#stick it in a df:\n",
    "pd.DataFrame(data['payload']['stores'])\n"
   ]
  },
  {
   "cell_type": "code",
   "execution_count": 24,
   "id": "cb592d90",
   "metadata": {},
   "outputs": [
    {
     "data": {
      "text/plain": [
       "dict_keys(['payload', 'status'])"
      ]
     },
     "execution_count": 24,
     "metadata": {},
     "output_type": "execute_result"
    }
   ],
   "source": [
    "#let's do the same with items:\n",
    "url = 'https://api.data.codeup.com/api/v1/items'\n",
    "response = requests.get(url)\n",
    "data = response.json()\n",
    "data.keys()"
   ]
  },
  {
   "cell_type": "code",
   "execution_count": 25,
   "id": "82285a5e",
   "metadata": {},
   "outputs": [
    {
     "data": {
      "text/plain": [
       "{'items': [{'item_brand': 'Riceland',\n",
       "   'item_id': 1,\n",
       "   'item_name': 'Riceland American Jazmine Rice',\n",
       "   'item_price': 0.84,\n",
       "   'item_upc12': '35200264013',\n",
       "   'item_upc14': '35200264013'},\n",
       "  {'item_brand': 'Caress',\n",
       "   'item_id': 2,\n",
       "   'item_name': 'Caress Velvet Bliss Ultra Silkening Beauty Bar - 6 Ct',\n",
       "   'item_price': 6.44,\n",
       "   'item_upc12': '11111065925',\n",
       "   'item_upc14': '11111065925'},\n",
       "  {'item_brand': 'Earths Best',\n",
       "   'item_id': 3,\n",
       "   'item_name': 'Earths Best Organic Fruit Yogurt Smoothie Mixed Berry',\n",
       "   'item_price': 2.43,\n",
       "   'item_upc12': '23923330139',\n",
       "   'item_upc14': '23923330139'},\n",
       "  {'item_brand': 'Boars Head',\n",
       "   'item_id': 4,\n",
       "   'item_name': 'Boars Head Sliced White American Cheese - 120 Ct',\n",
       "   'item_price': 3.14,\n",
       "   'item_upc12': '208528800007',\n",
       "   'item_upc14': '208528800007'},\n",
       "  {'item_brand': 'Back To Nature',\n",
       "   'item_id': 5,\n",
       "   'item_name': 'Back To Nature Gluten Free White Cheddar Rice Thin Crackers',\n",
       "   'item_price': 2.61,\n",
       "   'item_upc12': '759283100036',\n",
       "   'item_upc14': '759283100036'},\n",
       "  {'item_brand': 'Sally Hansen',\n",
       "   'item_id': 6,\n",
       "   'item_name': 'Sally Hansen Nail Color Magnetic 903 Silver Elements',\n",
       "   'item_price': 6.93,\n",
       "   'item_upc12': '74170388732',\n",
       "   'item_upc14': '74170388732'},\n",
       "  {'item_brand': 'Twinings Of London',\n",
       "   'item_id': 7,\n",
       "   'item_name': 'Twinings Of London Classics Lady Grey Tea - 20 Ct',\n",
       "   'item_price': 9.64,\n",
       "   'item_upc12': '70177154004',\n",
       "   'item_upc14': '70177154004'},\n",
       "  {'item_brand': 'Lea & Perrins',\n",
       "   'item_id': 8,\n",
       "   'item_name': 'Lea & Perrins Marinade In-a-bag Cracked Peppercorn',\n",
       "   'item_price': 1.68,\n",
       "   'item_upc12': '51600080015',\n",
       "   'item_upc14': '51600080015'},\n",
       "  {'item_brand': 'Van De Kamps',\n",
       "   'item_id': 9,\n",
       "   'item_name': 'Van De Kamps Fillets Beer Battered - 10 Ct',\n",
       "   'item_price': 1.79,\n",
       "   'item_upc12': '19600923015',\n",
       "   'item_upc14': '19600923015'},\n",
       "  {'item_brand': 'Ahold',\n",
       "   'item_id': 10,\n",
       "   'item_name': 'Ahold Cocoa Almonds',\n",
       "   'item_price': 3.17,\n",
       "   'item_upc12': '688267141676',\n",
       "   'item_upc14': '688267141676'},\n",
       "  {'item_brand': 'Honest Tea',\n",
       "   'item_id': 11,\n",
       "   'item_name': 'Honest Tea Peach White Tea',\n",
       "   'item_price': 3.93,\n",
       "   'item_upc12': '657622604842',\n",
       "   'item_upc14': '657622604842'},\n",
       "  {'item_brand': 'Mueller',\n",
       "   'item_id': 12,\n",
       "   'item_name': 'Mueller Sport Care Basic Support Level Medium Elastic Knee Support',\n",
       "   'item_price': 8.4,\n",
       "   'item_upc12': '74676640211',\n",
       "   'item_upc14': '74676640211'},\n",
       "  {'item_brand': 'Garnier Nutritioniste',\n",
       "   'item_id': 13,\n",
       "   'item_name': 'Garnier Nutritioniste Moisture Rescue Fresh Cleansing Foam',\n",
       "   'item_price': 6.47,\n",
       "   'item_upc12': '603084234561',\n",
       "   'item_upc14': '603084234561'},\n",
       "  {'item_brand': 'Pamprin',\n",
       "   'item_id': 14,\n",
       "   'item_name': 'Pamprin Maximum Strength Multi-symptom Menstrual Pain Relief',\n",
       "   'item_price': 7.54,\n",
       "   'item_upc12': '41167300121',\n",
       "   'item_upc14': '41167300121'},\n",
       "  {'item_brand': 'Suave',\n",
       "   'item_id': 15,\n",
       "   'item_name': 'Suave Naturals Moisturizing Body Wash Creamy Tropical Coconut',\n",
       "   'item_price': 9.11,\n",
       "   'item_upc12': '79400847201',\n",
       "   'item_upc14': '79400847201'},\n",
       "  {'item_brand': 'Burts Bees',\n",
       "   'item_id': 16,\n",
       "   'item_name': 'Burts Bees Daily Moisturizing Cream Sensitive',\n",
       "   'item_price': 5.17,\n",
       "   'item_upc12': '792850014008',\n",
       "   'item_upc14': '792850014008'},\n",
       "  {'item_brand': 'Ducal',\n",
       "   'item_id': 17,\n",
       "   'item_name': 'Ducal Refried Red Beans',\n",
       "   'item_price': 1.16,\n",
       "   'item_upc12': '88313590791',\n",
       "   'item_upc14': '88313590791'},\n",
       "  {'item_brand': 'Scotch',\n",
       "   'item_id': 18,\n",
       "   'item_name': 'Scotch Removable Clear Mounting Squares - 35 Ct',\n",
       "   'item_price': 4.39,\n",
       "   'item_upc12': '21200725340',\n",
       "   'item_upc14': '21200725340'},\n",
       "  {'item_brand': 'Careone',\n",
       "   'item_id': 19,\n",
       "   'item_name': 'Careone Family Comb Set - 8 Ct',\n",
       "   'item_price': 0.74,\n",
       "   'item_upc12': '41520035646',\n",
       "   'item_upc14': '41520035646'},\n",
       "  {'item_brand': 'Usda Produce',\n",
       "   'item_id': 20,\n",
       "   'item_name': 'Plums Black',\n",
       "   'item_price': 5.62,\n",
       "   'item_upc12': '204040000000',\n",
       "   'item_upc14': '204040000000'}],\n",
       " 'max_page': 3,\n",
       " 'next_page': '/api/v1/items?page=2',\n",
       " 'page': 1,\n",
       " 'previous_page': None}"
      ]
     },
     "execution_count": 25,
     "metadata": {},
     "output_type": "execute_result"
    }
   ],
   "source": [
    "data['payload']"
   ]
  },
  {
   "cell_type": "code",
   "execution_count": 26,
   "id": "fca8e0e3",
   "metadata": {},
   "outputs": [
    {
     "data": {
      "text/plain": [
       "dict_keys(['items', 'max_page', 'next_page', 'page', 'previous_page'])"
      ]
     },
     "execution_count": 26,
     "metadata": {},
     "output_type": "execute_result"
    }
   ],
   "source": [
    "#going back to find the items keys\n",
    "data['payload'].keys()"
   ]
  },
  {
   "cell_type": "code",
   "execution_count": 27,
   "id": "b5ef46e5",
   "metadata": {},
   "outputs": [
    {
     "data": {
      "text/plain": [
       "(1, 3, '/api/v1/items?page=2', None)"
      ]
     },
     "execution_count": 27,
     "metadata": {},
     "output_type": "execute_result"
    }
   ],
   "source": [
    "#putting this as a tuple so I can look at them all together to see\n",
    "#what is in each of these:\n",
    "(\n",
    "    data['payload']['page'], \n",
    "    data['payload']['max_page'], \n",
    "    data['payload']['next_page'],\n",
    "    data['payload']['previous_page'],\n",
    ")"
   ]
  },
  {
   "cell_type": "markdown",
   "id": "60744da3",
   "metadata": {},
   "source": [
    "Notes: the max page is 3, min 1 | there is an address for the next following page and nothing on the page before"
   ]
  },
  {
   "cell_type": "code",
   "execution_count": 28,
   "id": "5d94d260",
   "metadata": {},
   "outputs": [
    {
     "data": {
      "text/html": [
       "<div>\n",
       "<style scoped>\n",
       "    .dataframe tbody tr th:only-of-type {\n",
       "        vertical-align: middle;\n",
       "    }\n",
       "\n",
       "    .dataframe tbody tr th {\n",
       "        vertical-align: top;\n",
       "    }\n",
       "\n",
       "    .dataframe thead th {\n",
       "        text-align: right;\n",
       "    }\n",
       "</style>\n",
       "<table border=\"1\" class=\"dataframe\">\n",
       "  <thead>\n",
       "    <tr style=\"text-align: right;\">\n",
       "      <th></th>\n",
       "      <th>item_brand</th>\n",
       "      <th>item_id</th>\n",
       "      <th>item_name</th>\n",
       "      <th>item_price</th>\n",
       "      <th>item_upc12</th>\n",
       "      <th>item_upc14</th>\n",
       "    </tr>\n",
       "  </thead>\n",
       "  <tbody>\n",
       "    <tr>\n",
       "      <th>0</th>\n",
       "      <td>Riceland</td>\n",
       "      <td>1</td>\n",
       "      <td>Riceland American Jazmine Rice</td>\n",
       "      <td>0.84</td>\n",
       "      <td>35200264013</td>\n",
       "      <td>35200264013</td>\n",
       "    </tr>\n",
       "    <tr>\n",
       "      <th>1</th>\n",
       "      <td>Caress</td>\n",
       "      <td>2</td>\n",
       "      <td>Caress Velvet Bliss Ultra Silkening Beauty Bar...</td>\n",
       "      <td>6.44</td>\n",
       "      <td>11111065925</td>\n",
       "      <td>11111065925</td>\n",
       "    </tr>\n",
       "    <tr>\n",
       "      <th>2</th>\n",
       "      <td>Earths Best</td>\n",
       "      <td>3</td>\n",
       "      <td>Earths Best Organic Fruit Yogurt Smoothie Mixe...</td>\n",
       "      <td>2.43</td>\n",
       "      <td>23923330139</td>\n",
       "      <td>23923330139</td>\n",
       "    </tr>\n",
       "    <tr>\n",
       "      <th>3</th>\n",
       "      <td>Boars Head</td>\n",
       "      <td>4</td>\n",
       "      <td>Boars Head Sliced White American Cheese - 120 Ct</td>\n",
       "      <td>3.14</td>\n",
       "      <td>208528800007</td>\n",
       "      <td>208528800007</td>\n",
       "    </tr>\n",
       "    <tr>\n",
       "      <th>4</th>\n",
       "      <td>Back To Nature</td>\n",
       "      <td>5</td>\n",
       "      <td>Back To Nature Gluten Free White Cheddar Rice ...</td>\n",
       "      <td>2.61</td>\n",
       "      <td>759283100036</td>\n",
       "      <td>759283100036</td>\n",
       "    </tr>\n",
       "    <tr>\n",
       "      <th>5</th>\n",
       "      <td>Sally Hansen</td>\n",
       "      <td>6</td>\n",
       "      <td>Sally Hansen Nail Color Magnetic 903 Silver El...</td>\n",
       "      <td>6.93</td>\n",
       "      <td>74170388732</td>\n",
       "      <td>74170388732</td>\n",
       "    </tr>\n",
       "    <tr>\n",
       "      <th>6</th>\n",
       "      <td>Twinings Of London</td>\n",
       "      <td>7</td>\n",
       "      <td>Twinings Of London Classics Lady Grey Tea - 20 Ct</td>\n",
       "      <td>9.64</td>\n",
       "      <td>70177154004</td>\n",
       "      <td>70177154004</td>\n",
       "    </tr>\n",
       "    <tr>\n",
       "      <th>7</th>\n",
       "      <td>Lea &amp; Perrins</td>\n",
       "      <td>8</td>\n",
       "      <td>Lea &amp; Perrins Marinade In-a-bag Cracked Pepper...</td>\n",
       "      <td>1.68</td>\n",
       "      <td>51600080015</td>\n",
       "      <td>51600080015</td>\n",
       "    </tr>\n",
       "    <tr>\n",
       "      <th>8</th>\n",
       "      <td>Van De Kamps</td>\n",
       "      <td>9</td>\n",
       "      <td>Van De Kamps Fillets Beer Battered - 10 Ct</td>\n",
       "      <td>1.79</td>\n",
       "      <td>19600923015</td>\n",
       "      <td>19600923015</td>\n",
       "    </tr>\n",
       "    <tr>\n",
       "      <th>9</th>\n",
       "      <td>Ahold</td>\n",
       "      <td>10</td>\n",
       "      <td>Ahold Cocoa Almonds</td>\n",
       "      <td>3.17</td>\n",
       "      <td>688267141676</td>\n",
       "      <td>688267141676</td>\n",
       "    </tr>\n",
       "    <tr>\n",
       "      <th>10</th>\n",
       "      <td>Honest Tea</td>\n",
       "      <td>11</td>\n",
       "      <td>Honest Tea Peach White Tea</td>\n",
       "      <td>3.93</td>\n",
       "      <td>657622604842</td>\n",
       "      <td>657622604842</td>\n",
       "    </tr>\n",
       "    <tr>\n",
       "      <th>11</th>\n",
       "      <td>Mueller</td>\n",
       "      <td>12</td>\n",
       "      <td>Mueller Sport Care Basic Support Level Medium ...</td>\n",
       "      <td>8.40</td>\n",
       "      <td>74676640211</td>\n",
       "      <td>74676640211</td>\n",
       "    </tr>\n",
       "    <tr>\n",
       "      <th>12</th>\n",
       "      <td>Garnier Nutritioniste</td>\n",
       "      <td>13</td>\n",
       "      <td>Garnier Nutritioniste Moisture Rescue Fresh Cl...</td>\n",
       "      <td>6.47</td>\n",
       "      <td>603084234561</td>\n",
       "      <td>603084234561</td>\n",
       "    </tr>\n",
       "    <tr>\n",
       "      <th>13</th>\n",
       "      <td>Pamprin</td>\n",
       "      <td>14</td>\n",
       "      <td>Pamprin Maximum Strength Multi-symptom Menstru...</td>\n",
       "      <td>7.54</td>\n",
       "      <td>41167300121</td>\n",
       "      <td>41167300121</td>\n",
       "    </tr>\n",
       "    <tr>\n",
       "      <th>14</th>\n",
       "      <td>Suave</td>\n",
       "      <td>15</td>\n",
       "      <td>Suave Naturals Moisturizing Body Wash Creamy T...</td>\n",
       "      <td>9.11</td>\n",
       "      <td>79400847201</td>\n",
       "      <td>79400847201</td>\n",
       "    </tr>\n",
       "    <tr>\n",
       "      <th>15</th>\n",
       "      <td>Burts Bees</td>\n",
       "      <td>16</td>\n",
       "      <td>Burts Bees Daily Moisturizing Cream Sensitive</td>\n",
       "      <td>5.17</td>\n",
       "      <td>792850014008</td>\n",
       "      <td>792850014008</td>\n",
       "    </tr>\n",
       "    <tr>\n",
       "      <th>16</th>\n",
       "      <td>Ducal</td>\n",
       "      <td>17</td>\n",
       "      <td>Ducal Refried Red Beans</td>\n",
       "      <td>1.16</td>\n",
       "      <td>88313590791</td>\n",
       "      <td>88313590791</td>\n",
       "    </tr>\n",
       "    <tr>\n",
       "      <th>17</th>\n",
       "      <td>Scotch</td>\n",
       "      <td>18</td>\n",
       "      <td>Scotch Removable Clear Mounting Squares - 35 Ct</td>\n",
       "      <td>4.39</td>\n",
       "      <td>21200725340</td>\n",
       "      <td>21200725340</td>\n",
       "    </tr>\n",
       "    <tr>\n",
       "      <th>18</th>\n",
       "      <td>Careone</td>\n",
       "      <td>19</td>\n",
       "      <td>Careone Family Comb Set - 8 Ct</td>\n",
       "      <td>0.74</td>\n",
       "      <td>41520035646</td>\n",
       "      <td>41520035646</td>\n",
       "    </tr>\n",
       "    <tr>\n",
       "      <th>19</th>\n",
       "      <td>Usda Produce</td>\n",
       "      <td>20</td>\n",
       "      <td>Plums Black</td>\n",
       "      <td>5.62</td>\n",
       "      <td>204040000000</td>\n",
       "      <td>204040000000</td>\n",
       "    </tr>\n",
       "  </tbody>\n",
       "</table>\n",
       "</div>"
      ],
      "text/plain": [
       "               item_brand  item_id  \\\n",
       "0                Riceland        1   \n",
       "1                  Caress        2   \n",
       "2             Earths Best        3   \n",
       "3              Boars Head        4   \n",
       "4          Back To Nature        5   \n",
       "5            Sally Hansen        6   \n",
       "6      Twinings Of London        7   \n",
       "7           Lea & Perrins        8   \n",
       "8            Van De Kamps        9   \n",
       "9                   Ahold       10   \n",
       "10             Honest Tea       11   \n",
       "11                Mueller       12   \n",
       "12  Garnier Nutritioniste       13   \n",
       "13                Pamprin       14   \n",
       "14                  Suave       15   \n",
       "15             Burts Bees       16   \n",
       "16                  Ducal       17   \n",
       "17                 Scotch       18   \n",
       "18                Careone       19   \n",
       "19           Usda Produce       20   \n",
       "\n",
       "                                            item_name  item_price  \\\n",
       "0                      Riceland American Jazmine Rice        0.84   \n",
       "1   Caress Velvet Bliss Ultra Silkening Beauty Bar...        6.44   \n",
       "2   Earths Best Organic Fruit Yogurt Smoothie Mixe...        2.43   \n",
       "3    Boars Head Sliced White American Cheese - 120 Ct        3.14   \n",
       "4   Back To Nature Gluten Free White Cheddar Rice ...        2.61   \n",
       "5   Sally Hansen Nail Color Magnetic 903 Silver El...        6.93   \n",
       "6   Twinings Of London Classics Lady Grey Tea - 20 Ct        9.64   \n",
       "7   Lea & Perrins Marinade In-a-bag Cracked Pepper...        1.68   \n",
       "8          Van De Kamps Fillets Beer Battered - 10 Ct        1.79   \n",
       "9                                 Ahold Cocoa Almonds        3.17   \n",
       "10                         Honest Tea Peach White Tea        3.93   \n",
       "11  Mueller Sport Care Basic Support Level Medium ...        8.40   \n",
       "12  Garnier Nutritioniste Moisture Rescue Fresh Cl...        6.47   \n",
       "13  Pamprin Maximum Strength Multi-symptom Menstru...        7.54   \n",
       "14  Suave Naturals Moisturizing Body Wash Creamy T...        9.11   \n",
       "15      Burts Bees Daily Moisturizing Cream Sensitive        5.17   \n",
       "16                            Ducal Refried Red Beans        1.16   \n",
       "17    Scotch Removable Clear Mounting Squares - 35 Ct        4.39   \n",
       "18                     Careone Family Comb Set - 8 Ct        0.74   \n",
       "19                                        Plums Black        5.62   \n",
       "\n",
       "      item_upc12    item_upc14  \n",
       "0    35200264013   35200264013  \n",
       "1    11111065925   11111065925  \n",
       "2    23923330139   23923330139  \n",
       "3   208528800007  208528800007  \n",
       "4   759283100036  759283100036  \n",
       "5    74170388732   74170388732  \n",
       "6    70177154004   70177154004  \n",
       "7    51600080015   51600080015  \n",
       "8    19600923015   19600923015  \n",
       "9   688267141676  688267141676  \n",
       "10  657622604842  657622604842  \n",
       "11   74676640211   74676640211  \n",
       "12  603084234561  603084234561  \n",
       "13   41167300121   41167300121  \n",
       "14   79400847201   79400847201  \n",
       "15  792850014008  792850014008  \n",
       "16   88313590791   88313590791  \n",
       "17   21200725340   21200725340  \n",
       "18   41520035646   41520035646  \n",
       "19  204040000000  204040000000  "
      ]
     },
     "execution_count": 28,
     "metadata": {},
     "output_type": "execute_result"
    }
   ],
   "source": [
    "#let's see if items makes a df well too:\n",
    "pd.DataFrame(data['payload']['items'])\n"
   ]
  },
  {
   "cell_type": "markdown",
   "id": "786ab164",
   "metadata": {},
   "source": [
    "### NOTES: these dataframes are only page 1 of each categories (payload and items)"
   ]
  },
  {
   "cell_type": "markdown",
   "id": "c5480299",
   "metadata": {},
   "source": [
    "#### What can we do with multiple pages?"
   ]
  },
  {
   "cell_type": "code",
   "execution_count": 29,
   "id": "c36d4aa3",
   "metadata": {},
   "outputs": [],
   "source": [
    "domain = 'https://api.data.codeup.com'\n",
    "endpoint = '/api/v1/items'\n",
    "#the name of my lists I want to store things in:\n",
    "items = []\n",
    "\n",
    "url = domain + endpoint\n",
    "\n",
    "response = requests.get(url)\n",
    "data = response.json()\n",
    "# .extend adds elemnts from a list to another list\n",
    "items.extend(data['payload']['items'])"
   ]
  },
  {
   "cell_type": "code",
   "execution_count": 30,
   "id": "a26868f3",
   "metadata": {},
   "outputs": [
    {
     "data": {
      "text/plain": [
       "'/api/v1/items?page=2'"
      ]
     },
     "execution_count": 30,
     "metadata": {},
     "output_type": "execute_result"
    }
   ],
   "source": [
    "data['payload']['next_page']\n"
   ]
  },
  {
   "cell_type": "code",
   "execution_count": null,
   "id": "1ade0a64",
   "metadata": {},
   "outputs": [],
   "source": []
  }
 ],
 "metadata": {
  "kernelspec": {
   "display_name": "Python 3 (ipykernel)",
   "language": "python",
   "name": "python3"
  },
  "language_info": {
   "codemirror_mode": {
    "name": "ipython",
    "version": 3
   },
   "file_extension": ".py",
   "mimetype": "text/x-python",
   "name": "python",
   "nbconvert_exporter": "python",
   "pygments_lexer": "ipython3",
   "version": "3.9.7"
  }
 },
 "nbformat": 4,
 "nbformat_minor": 5
}
