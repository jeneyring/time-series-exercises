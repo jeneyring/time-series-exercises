{
 "cells": [
  {
   "cell_type": "markdown",
   "id": "f5f98928",
   "metadata": {},
   "source": [
    "# Time Series- Acquire Exercises"
   ]
  },
  {
   "cell_type": "markdown",
   "id": "9003424b",
   "metadata": {},
   "source": [
    "### Exercise 1)\n",
    "Using the code from the lesson as a guide and the REST API from https://python.zgulde.net/api/v1/items as we did in the lesson, create a dataframe named items that has all of the data for items."
   ]
  },
  {
   "cell_type": "code",
   "execution_count": 1,
   "id": "87e7cf01",
   "metadata": {},
   "outputs": [
    {
     "data": {
      "text/plain": [
       "<Response [200]>"
      ]
     },
     "execution_count": 1,
     "metadata": {},
     "output_type": "execute_result"
    }
   ],
   "source": [
    "import pandas as pd\n",
    "import requests\n",
    "\n",
    "#by using requests, it returns what that website status code is:\n",
    "response = requests.get('https://python.zgulde.net/api/v1/items')\n",
    "response"
   ]
  },
  {
   "cell_type": "code",
   "execution_count": 2,
   "id": "6d608c08",
   "metadata": {},
   "outputs": [
    {
     "name": "stdout",
     "output_type": "stream",
     "text": [
      "{\"payload\":{\"items\":[{\"item_brand\":\"Riceland\",\"item_id\":1,\"item_name\":\"Riceland American Jazmine Rice\",\"item_price\":0.84,\"item_upc12\":\"35200264013\",\"item_upc14\":\"35200264013\"},{\"item_brand\":\"Caress\",\"item_id\":2,\"item_name\":\"Caress Velvet Bliss Ultra Silkening Beauty Bar - 6 Ct\",\"item_price\":6.44,\"item_upc12\":\"11111065925\",\"item_upc14\":\"11111065925\"},{\"item_brand\":\"Earths Best\",\"item_id\":3,\"item_name\":\"Earths Best Organic Fruit Yogurt Smoothie Mixed Berry\",\"item_price\":2.43,\"item_upc12\":\"23923330139\",\"item_upc14\":\"23923330139\"},{\"item_brand\":\"Boars Head\",\"item_id\":4,\"item_name\":\"Boars Head Sliced White American Cheese - 120 Ct\",\"item_price\":3.14,\"item_upc12\":\"208528800007\",\"item_upc14\":\"208528800007\"},{\"item_brand\":\"Back To Nature\",\"item_id\":5,\"item_name\":\"Back To Nature Gluten Free White Cheddar Rice Thin Crackers\",\"item_price\":2.61,\"item_upc12\":\"759283100036\",\"item_upc14\":\"759283100036\"},{\"item_brand\":\"Sally Hansen\",\"item_id\":6,\"item_name\":\"Sally Hansen Nail Color Magnetic 903 Silver Elements\",\"item_price\":6.93,\"item_upc12\":\"74170388732\",\"item_upc14\":\"74170388732\"},{\"item_brand\":\"Twinings Of London\",\"item_id\":7,\"item_name\":\"Twinings Of London Classics Lady Grey Tea - 20 Ct\",\"item_price\":9.64,\"item_upc12\":\"70177154004\",\"item_upc14\":\"70177154004\"},{\"item_brand\":\"Lea & Perrins\",\"item_id\":8,\"item_name\":\"Lea & Perrins Marinade In-a-bag Cracked Peppercorn\",\"item_price\":1.68,\"item_upc12\":\"51600080015\",\"item_upc14\":\"51600080015\"},{\"item_brand\":\"Van De Kamps\",\"item_id\":9,\"item_name\":\"Van De Kamps Fillets Beer Battered - 10 Ct\",\"item_price\":1.79,\"item_upc12\":\"19600923015\",\"item_upc14\":\"19600923015\"},{\"item_brand\":\"Ahold\",\"item_id\":10,\"item_name\":\"Ahold Cocoa Almonds\",\"item_price\":3.17,\"item_upc12\":\"688267141676\",\"item_upc14\":\"688267141676\"},{\"item_brand\":\"Honest Tea\",\"item_id\":11,\"item_name\":\"Honest Tea Peach White Tea\",\"item_price\":3.93,\"item_upc12\":\"657622604842\",\"item_upc14\":\"657622604842\"},{\"item_brand\":\"Mueller\",\"item_id\":12,\"item_name\":\"Mueller Sport Care Basic Support Level Medium Elastic Knee Support\",\"item_price\":8.4,\"item_upc12\":\"74676640211\",\"item_upc14\":\"74676640211\"},{\"item_brand\":\"Garnier Nutritioniste\",\"item_id\":13,\"item_name\":\"Garnier Nutritioniste Moisture Rescue Fresh Cleansing Foam\",\"item_price\":6.47,\"item_upc12\":\"603084234561\",\"item_upc14\":\"603084234561\"},{\"item_brand\":\"Pamprin\",\"item_id\":14,\"item_name\":\"Pamprin Maximum Strength Multi-symptom Menstrual Pain Relief\",\"item_price\":7.54,\"item_upc12\":\"41167300121\",\"item_upc14\":\"41167300121\"},{\"item_brand\":\"Suave\",\"item_id\":15,\"item_name\":\"Suave Naturals Moisturizing Body Wash Creamy Tropical Coconut\",\"item_price\":9.11,\"item_upc12\":\"79400847201\",\"item_upc14\":\"79400847201\"},{\"item_brand\":\"Burts Bees\",\"item_id\":16,\"item_name\":\"Burts Bees Daily Moisturizing Cream Sensitive\",\"item_price\":5.17,\"item_upc12\":\"792850014008\",\"item_upc14\":\"792850014008\"},{\"item_brand\":\"Ducal\",\"item_id\":17,\"item_name\":\"Ducal Refried Red Beans\",\"item_price\":1.16,\"item_upc12\":\"88313590791\",\"item_upc14\":\"88313590791\"},{\"item_brand\":\"Scotch\",\"item_id\":18,\"item_name\":\"Scotch Removable Clear Mounting Squares - 35 Ct\",\"item_price\":4.39,\"item_upc12\":\"21200725340\",\"item_upc14\":\"21200725340\"},{\"item_brand\":\"Careone\",\"item_id\":19,\"item_name\":\"Careone Family Comb Set - 8 Ct\",\"item_price\":0.74,\"item_upc12\":\"41520035646\",\"item_upc14\":\"41520035646\"},{\"item_brand\":\"Usda Produce\",\"item_id\":20,\"item_name\":\"Plums Black\",\"item_price\":5.62,\"item_upc12\":\"204040000000\",\"item_upc14\":\"204040000000\"}],\"max_page\":3,\"next_page\":\"/api/v1/items?page=2\",\"page\":1,\"previous_page\":null},\"status\":\"ok\"}\n",
      "\n"
     ]
    }
   ],
   "source": [
    "#response.text returns the raw html data of the website\n",
    "print(response.text)"
   ]
  },
  {
   "cell_type": "code",
   "execution_count": 3,
   "id": "3f58cd6d",
   "metadata": {},
   "outputs": [
    {
     "data": {
      "text/plain": [
       "{'payload': {'items': [{'item_brand': 'Riceland',\n",
       "    'item_id': 1,\n",
       "    'item_name': 'Riceland American Jazmine Rice',\n",
       "    'item_price': 0.84,\n",
       "    'item_upc12': '35200264013',\n",
       "    'item_upc14': '35200264013'},\n",
       "   {'item_brand': 'Caress',\n",
       "    'item_id': 2,\n",
       "    'item_name': 'Caress Velvet Bliss Ultra Silkening Beauty Bar - 6 Ct',\n",
       "    'item_price': 6.44,\n",
       "    'item_upc12': '11111065925',\n",
       "    'item_upc14': '11111065925'},\n",
       "   {'item_brand': 'Earths Best',\n",
       "    'item_id': 3,\n",
       "    'item_name': 'Earths Best Organic Fruit Yogurt Smoothie Mixed Berry',\n",
       "    'item_price': 2.43,\n",
       "    'item_upc12': '23923330139',\n",
       "    'item_upc14': '23923330139'},\n",
       "   {'item_brand': 'Boars Head',\n",
       "    'item_id': 4,\n",
       "    'item_name': 'Boars Head Sliced White American Cheese - 120 Ct',\n",
       "    'item_price': 3.14,\n",
       "    'item_upc12': '208528800007',\n",
       "    'item_upc14': '208528800007'},\n",
       "   {'item_brand': 'Back To Nature',\n",
       "    'item_id': 5,\n",
       "    'item_name': 'Back To Nature Gluten Free White Cheddar Rice Thin Crackers',\n",
       "    'item_price': 2.61,\n",
       "    'item_upc12': '759283100036',\n",
       "    'item_upc14': '759283100036'},\n",
       "   {'item_brand': 'Sally Hansen',\n",
       "    'item_id': 6,\n",
       "    'item_name': 'Sally Hansen Nail Color Magnetic 903 Silver Elements',\n",
       "    'item_price': 6.93,\n",
       "    'item_upc12': '74170388732',\n",
       "    'item_upc14': '74170388732'},\n",
       "   {'item_brand': 'Twinings Of London',\n",
       "    'item_id': 7,\n",
       "    'item_name': 'Twinings Of London Classics Lady Grey Tea - 20 Ct',\n",
       "    'item_price': 9.64,\n",
       "    'item_upc12': '70177154004',\n",
       "    'item_upc14': '70177154004'},\n",
       "   {'item_brand': 'Lea & Perrins',\n",
       "    'item_id': 8,\n",
       "    'item_name': 'Lea & Perrins Marinade In-a-bag Cracked Peppercorn',\n",
       "    'item_price': 1.68,\n",
       "    'item_upc12': '51600080015',\n",
       "    'item_upc14': '51600080015'},\n",
       "   {'item_brand': 'Van De Kamps',\n",
       "    'item_id': 9,\n",
       "    'item_name': 'Van De Kamps Fillets Beer Battered - 10 Ct',\n",
       "    'item_price': 1.79,\n",
       "    'item_upc12': '19600923015',\n",
       "    'item_upc14': '19600923015'},\n",
       "   {'item_brand': 'Ahold',\n",
       "    'item_id': 10,\n",
       "    'item_name': 'Ahold Cocoa Almonds',\n",
       "    'item_price': 3.17,\n",
       "    'item_upc12': '688267141676',\n",
       "    'item_upc14': '688267141676'},\n",
       "   {'item_brand': 'Honest Tea',\n",
       "    'item_id': 11,\n",
       "    'item_name': 'Honest Tea Peach White Tea',\n",
       "    'item_price': 3.93,\n",
       "    'item_upc12': '657622604842',\n",
       "    'item_upc14': '657622604842'},\n",
       "   {'item_brand': 'Mueller',\n",
       "    'item_id': 12,\n",
       "    'item_name': 'Mueller Sport Care Basic Support Level Medium Elastic Knee Support',\n",
       "    'item_price': 8.4,\n",
       "    'item_upc12': '74676640211',\n",
       "    'item_upc14': '74676640211'},\n",
       "   {'item_brand': 'Garnier Nutritioniste',\n",
       "    'item_id': 13,\n",
       "    'item_name': 'Garnier Nutritioniste Moisture Rescue Fresh Cleansing Foam',\n",
       "    'item_price': 6.47,\n",
       "    'item_upc12': '603084234561',\n",
       "    'item_upc14': '603084234561'},\n",
       "   {'item_brand': 'Pamprin',\n",
       "    'item_id': 14,\n",
       "    'item_name': 'Pamprin Maximum Strength Multi-symptom Menstrual Pain Relief',\n",
       "    'item_price': 7.54,\n",
       "    'item_upc12': '41167300121',\n",
       "    'item_upc14': '41167300121'},\n",
       "   {'item_brand': 'Suave',\n",
       "    'item_id': 15,\n",
       "    'item_name': 'Suave Naturals Moisturizing Body Wash Creamy Tropical Coconut',\n",
       "    'item_price': 9.11,\n",
       "    'item_upc12': '79400847201',\n",
       "    'item_upc14': '79400847201'},\n",
       "   {'item_brand': 'Burts Bees',\n",
       "    'item_id': 16,\n",
       "    'item_name': 'Burts Bees Daily Moisturizing Cream Sensitive',\n",
       "    'item_price': 5.17,\n",
       "    'item_upc12': '792850014008',\n",
       "    'item_upc14': '792850014008'},\n",
       "   {'item_brand': 'Ducal',\n",
       "    'item_id': 17,\n",
       "    'item_name': 'Ducal Refried Red Beans',\n",
       "    'item_price': 1.16,\n",
       "    'item_upc12': '88313590791',\n",
       "    'item_upc14': '88313590791'},\n",
       "   {'item_brand': 'Scotch',\n",
       "    'item_id': 18,\n",
       "    'item_name': 'Scotch Removable Clear Mounting Squares - 35 Ct',\n",
       "    'item_price': 4.39,\n",
       "    'item_upc12': '21200725340',\n",
       "    'item_upc14': '21200725340'},\n",
       "   {'item_brand': 'Careone',\n",
       "    'item_id': 19,\n",
       "    'item_name': 'Careone Family Comb Set - 8 Ct',\n",
       "    'item_price': 0.74,\n",
       "    'item_upc12': '41520035646',\n",
       "    'item_upc14': '41520035646'},\n",
       "   {'item_brand': 'Usda Produce',\n",
       "    'item_id': 20,\n",
       "    'item_name': 'Plums Black',\n",
       "    'item_price': 5.62,\n",
       "    'item_upc12': '204040000000',\n",
       "    'item_upc14': '204040000000'}],\n",
       "  'max_page': 3,\n",
       "  'next_page': '/api/v1/items?page=2',\n",
       "  'page': 1,\n",
       "  'previous_page': None},\n",
       " 'status': 'ok'}"
      ]
     },
     "execution_count": 3,
     "metadata": {},
     "output_type": "execute_result"
    }
   ],
   "source": [
    "#we can request and clarify to make the request a JSON (structured dictionary)\n",
    "data = response.json()\n",
    "data"
   ]
  },
  {
   "cell_type": "code",
   "execution_count": 4,
   "id": "13c39141",
   "metadata": {},
   "outputs": [
    {
     "data": {
      "text/plain": [
       "{'items': [{'item_brand': 'Riceland',\n",
       "   'item_id': 1,\n",
       "   'item_name': 'Riceland American Jazmine Rice',\n",
       "   'item_price': 0.84,\n",
       "   'item_upc12': '35200264013',\n",
       "   'item_upc14': '35200264013'},\n",
       "  {'item_brand': 'Caress',\n",
       "   'item_id': 2,\n",
       "   'item_name': 'Caress Velvet Bliss Ultra Silkening Beauty Bar - 6 Ct',\n",
       "   'item_price': 6.44,\n",
       "   'item_upc12': '11111065925',\n",
       "   'item_upc14': '11111065925'},\n",
       "  {'item_brand': 'Earths Best',\n",
       "   'item_id': 3,\n",
       "   'item_name': 'Earths Best Organic Fruit Yogurt Smoothie Mixed Berry',\n",
       "   'item_price': 2.43,\n",
       "   'item_upc12': '23923330139',\n",
       "   'item_upc14': '23923330139'},\n",
       "  {'item_brand': 'Boars Head',\n",
       "   'item_id': 4,\n",
       "   'item_name': 'Boars Head Sliced White American Cheese - 120 Ct',\n",
       "   'item_price': 3.14,\n",
       "   'item_upc12': '208528800007',\n",
       "   'item_upc14': '208528800007'},\n",
       "  {'item_brand': 'Back To Nature',\n",
       "   'item_id': 5,\n",
       "   'item_name': 'Back To Nature Gluten Free White Cheddar Rice Thin Crackers',\n",
       "   'item_price': 2.61,\n",
       "   'item_upc12': '759283100036',\n",
       "   'item_upc14': '759283100036'},\n",
       "  {'item_brand': 'Sally Hansen',\n",
       "   'item_id': 6,\n",
       "   'item_name': 'Sally Hansen Nail Color Magnetic 903 Silver Elements',\n",
       "   'item_price': 6.93,\n",
       "   'item_upc12': '74170388732',\n",
       "   'item_upc14': '74170388732'},\n",
       "  {'item_brand': 'Twinings Of London',\n",
       "   'item_id': 7,\n",
       "   'item_name': 'Twinings Of London Classics Lady Grey Tea - 20 Ct',\n",
       "   'item_price': 9.64,\n",
       "   'item_upc12': '70177154004',\n",
       "   'item_upc14': '70177154004'},\n",
       "  {'item_brand': 'Lea & Perrins',\n",
       "   'item_id': 8,\n",
       "   'item_name': 'Lea & Perrins Marinade In-a-bag Cracked Peppercorn',\n",
       "   'item_price': 1.68,\n",
       "   'item_upc12': '51600080015',\n",
       "   'item_upc14': '51600080015'},\n",
       "  {'item_brand': 'Van De Kamps',\n",
       "   'item_id': 9,\n",
       "   'item_name': 'Van De Kamps Fillets Beer Battered - 10 Ct',\n",
       "   'item_price': 1.79,\n",
       "   'item_upc12': '19600923015',\n",
       "   'item_upc14': '19600923015'},\n",
       "  {'item_brand': 'Ahold',\n",
       "   'item_id': 10,\n",
       "   'item_name': 'Ahold Cocoa Almonds',\n",
       "   'item_price': 3.17,\n",
       "   'item_upc12': '688267141676',\n",
       "   'item_upc14': '688267141676'},\n",
       "  {'item_brand': 'Honest Tea',\n",
       "   'item_id': 11,\n",
       "   'item_name': 'Honest Tea Peach White Tea',\n",
       "   'item_price': 3.93,\n",
       "   'item_upc12': '657622604842',\n",
       "   'item_upc14': '657622604842'},\n",
       "  {'item_brand': 'Mueller',\n",
       "   'item_id': 12,\n",
       "   'item_name': 'Mueller Sport Care Basic Support Level Medium Elastic Knee Support',\n",
       "   'item_price': 8.4,\n",
       "   'item_upc12': '74676640211',\n",
       "   'item_upc14': '74676640211'},\n",
       "  {'item_brand': 'Garnier Nutritioniste',\n",
       "   'item_id': 13,\n",
       "   'item_name': 'Garnier Nutritioniste Moisture Rescue Fresh Cleansing Foam',\n",
       "   'item_price': 6.47,\n",
       "   'item_upc12': '603084234561',\n",
       "   'item_upc14': '603084234561'},\n",
       "  {'item_brand': 'Pamprin',\n",
       "   'item_id': 14,\n",
       "   'item_name': 'Pamprin Maximum Strength Multi-symptom Menstrual Pain Relief',\n",
       "   'item_price': 7.54,\n",
       "   'item_upc12': '41167300121',\n",
       "   'item_upc14': '41167300121'},\n",
       "  {'item_brand': 'Suave',\n",
       "   'item_id': 15,\n",
       "   'item_name': 'Suave Naturals Moisturizing Body Wash Creamy Tropical Coconut',\n",
       "   'item_price': 9.11,\n",
       "   'item_upc12': '79400847201',\n",
       "   'item_upc14': '79400847201'},\n",
       "  {'item_brand': 'Burts Bees',\n",
       "   'item_id': 16,\n",
       "   'item_name': 'Burts Bees Daily Moisturizing Cream Sensitive',\n",
       "   'item_price': 5.17,\n",
       "   'item_upc12': '792850014008',\n",
       "   'item_upc14': '792850014008'},\n",
       "  {'item_brand': 'Ducal',\n",
       "   'item_id': 17,\n",
       "   'item_name': 'Ducal Refried Red Beans',\n",
       "   'item_price': 1.16,\n",
       "   'item_upc12': '88313590791',\n",
       "   'item_upc14': '88313590791'},\n",
       "  {'item_brand': 'Scotch',\n",
       "   'item_id': 18,\n",
       "   'item_name': 'Scotch Removable Clear Mounting Squares - 35 Ct',\n",
       "   'item_price': 4.39,\n",
       "   'item_upc12': '21200725340',\n",
       "   'item_upc14': '21200725340'},\n",
       "  {'item_brand': 'Careone',\n",
       "   'item_id': 19,\n",
       "   'item_name': 'Careone Family Comb Set - 8 Ct',\n",
       "   'item_price': 0.74,\n",
       "   'item_upc12': '41520035646',\n",
       "   'item_upc14': '41520035646'},\n",
       "  {'item_brand': 'Usda Produce',\n",
       "   'item_id': 20,\n",
       "   'item_name': 'Plums Black',\n",
       "   'item_price': 5.62,\n",
       "   'item_upc12': '204040000000',\n",
       "   'item_upc14': '204040000000'}],\n",
       " 'max_page': 3,\n",
       " 'next_page': '/api/v1/items?page=2',\n",
       " 'page': 1,\n",
       " 'previous_page': None}"
      ]
     },
     "execution_count": 4,
     "metadata": {},
     "output_type": "execute_result"
    }
   ],
   "source": [
    "data['payload']"
   ]
  },
  {
   "cell_type": "code",
   "execution_count": 5,
   "id": "78170978",
   "metadata": {},
   "outputs": [
    {
     "data": {
      "text/plain": [
       "dict_keys(['items', 'max_page', 'next_page', 'page', 'previous_page'])"
      ]
     },
     "execution_count": 5,
     "metadata": {},
     "output_type": "execute_result"
    }
   ],
   "source": [
    "#what are keys in payload?\n",
    "data['payload'].keys()"
   ]
  },
  {
   "cell_type": "code",
   "execution_count": 6,
   "id": "7ccc8f98",
   "metadata": {},
   "outputs": [
    {
     "name": "stdout",
     "output_type": "stream",
     "text": [
      "/api/v1/items?page=2\n",
      "/api/v1/items?page=3\n",
      "None\n"
     ]
    },
    {
     "data": {
      "text/html": [
       "<div>\n",
       "<style scoped>\n",
       "    .dataframe tbody tr th:only-of-type {\n",
       "        vertical-align: middle;\n",
       "    }\n",
       "\n",
       "    .dataframe tbody tr th {\n",
       "        vertical-align: top;\n",
       "    }\n",
       "\n",
       "    .dataframe thead th {\n",
       "        text-align: right;\n",
       "    }\n",
       "</style>\n",
       "<table border=\"1\" class=\"dataframe\">\n",
       "  <thead>\n",
       "    <tr style=\"text-align: right;\">\n",
       "      <th></th>\n",
       "      <th>item_brand</th>\n",
       "      <th>item_id</th>\n",
       "      <th>item_name</th>\n",
       "      <th>item_price</th>\n",
       "      <th>item_upc12</th>\n",
       "      <th>item_upc14</th>\n",
       "    </tr>\n",
       "  </thead>\n",
       "  <tbody>\n",
       "    <tr>\n",
       "      <th>0</th>\n",
       "      <td>P.f. Changs</td>\n",
       "      <td>41</td>\n",
       "      <td>P.f. Changs Home Menu Meal For Two Beef With B...</td>\n",
       "      <td>5.62</td>\n",
       "      <td>31000670016</td>\n",
       "      <td>31000670016</td>\n",
       "    </tr>\n",
       "    <tr>\n",
       "      <th>1</th>\n",
       "      <td>Moms Best Naturals</td>\n",
       "      <td>42</td>\n",
       "      <td>Moms Best Naturals Cereal Toasted Cinnamon Squ...</td>\n",
       "      <td>2.97</td>\n",
       "      <td>883978129115</td>\n",
       "      <td>883978129115</td>\n",
       "    </tr>\n",
       "    <tr>\n",
       "      <th>2</th>\n",
       "      <td>Ferrara</td>\n",
       "      <td>43</td>\n",
       "      <td>Ferrara Vanilla Syrup</td>\n",
       "      <td>8.40</td>\n",
       "      <td>71403000379</td>\n",
       "      <td>71403000379</td>\n",
       "    </tr>\n",
       "    <tr>\n",
       "      <th>3</th>\n",
       "      <td>Elmers</td>\n",
       "      <td>44</td>\n",
       "      <td>Elmers Board Mate Dual Tip Glue Pen</td>\n",
       "      <td>7.06</td>\n",
       "      <td>26000001403</td>\n",
       "      <td>26000001403</td>\n",
       "    </tr>\n",
       "    <tr>\n",
       "      <th>4</th>\n",
       "      <td>Kelloggs</td>\n",
       "      <td>45</td>\n",
       "      <td>Kelloggs Disney Pixar Cars 2 Cereal</td>\n",
       "      <td>4.40</td>\n",
       "      <td>38000542237</td>\n",
       "      <td>38000542237</td>\n",
       "    </tr>\n",
       "    <tr>\n",
       "      <th>5</th>\n",
       "      <td>Mama Marys</td>\n",
       "      <td>46</td>\n",
       "      <td>Pizza Sauce</td>\n",
       "      <td>4.65</td>\n",
       "      <td>35457770664</td>\n",
       "      <td>35457770664</td>\n",
       "    </tr>\n",
       "    <tr>\n",
       "      <th>6</th>\n",
       "      <td>Bear Naked</td>\n",
       "      <td>47</td>\n",
       "      <td>Bear Naked Fit Almond Crisp 100 Percent Natura...</td>\n",
       "      <td>7.38</td>\n",
       "      <td>884623708976</td>\n",
       "      <td>884623708976</td>\n",
       "    </tr>\n",
       "    <tr>\n",
       "      <th>7</th>\n",
       "      <td>Dove</td>\n",
       "      <td>48</td>\n",
       "      <td>Dove Men + Care Antiperspirant Deodorant Cool ...</td>\n",
       "      <td>3.72</td>\n",
       "      <td>79400271631</td>\n",
       "      <td>79400271631</td>\n",
       "    </tr>\n",
       "    <tr>\n",
       "      <th>8</th>\n",
       "      <td>Easy-off</td>\n",
       "      <td>49</td>\n",
       "      <td>Easy-off Oven Cleaner Lemon Scent</td>\n",
       "      <td>9.54</td>\n",
       "      <td>62338879772</td>\n",
       "      <td>62338879772</td>\n",
       "    </tr>\n",
       "    <tr>\n",
       "      <th>9</th>\n",
       "      <td>Choice</td>\n",
       "      <td>50</td>\n",
       "      <td>Choice Organic Teas Black Tea Classic Black - ...</td>\n",
       "      <td>5.20</td>\n",
       "      <td>47445919221</td>\n",
       "      <td>47445919221</td>\n",
       "    </tr>\n",
       "  </tbody>\n",
       "</table>\n",
       "</div>"
      ],
      "text/plain": [
       "           item_brand  item_id  \\\n",
       "0         P.f. Changs       41   \n",
       "1  Moms Best Naturals       42   \n",
       "2             Ferrara       43   \n",
       "3              Elmers       44   \n",
       "4            Kelloggs       45   \n",
       "5          Mama Marys       46   \n",
       "6          Bear Naked       47   \n",
       "7                Dove       48   \n",
       "8            Easy-off       49   \n",
       "9              Choice       50   \n",
       "\n",
       "                                           item_name  item_price  \\\n",
       "0  P.f. Changs Home Menu Meal For Two Beef With B...        5.62   \n",
       "1  Moms Best Naturals Cereal Toasted Cinnamon Squ...        2.97   \n",
       "2                              Ferrara Vanilla Syrup        8.40   \n",
       "3                Elmers Board Mate Dual Tip Glue Pen        7.06   \n",
       "4                Kelloggs Disney Pixar Cars 2 Cereal        4.40   \n",
       "5                                        Pizza Sauce        4.65   \n",
       "6  Bear Naked Fit Almond Crisp 100 Percent Natura...        7.38   \n",
       "7  Dove Men + Care Antiperspirant Deodorant Cool ...        3.72   \n",
       "8                  Easy-off Oven Cleaner Lemon Scent        9.54   \n",
       "9  Choice Organic Teas Black Tea Classic Black - ...        5.20   \n",
       "\n",
       "     item_upc12    item_upc14  \n",
       "0   31000670016   31000670016  \n",
       "1  883978129115  883978129115  \n",
       "2   71403000379   71403000379  \n",
       "3   26000001403   26000001403  \n",
       "4   38000542237   38000542237  \n",
       "5   35457770664   35457770664  \n",
       "6  884623708976  884623708976  \n",
       "7   79400271631   79400271631  \n",
       "8   62338879772   62338879772  \n",
       "9   47445919221   47445919221  "
      ]
     },
     "execution_count": 6,
     "metadata": {},
     "output_type": "execute_result"
    }
   ],
   "source": [
    "domain = 'https://python.zgulde.net'\n",
    "endpoint = '/api/v1/items'\n",
    "#the name of my lists I want to store things in:\n",
    "items = []\n",
    "\n",
    "while endpoint != None:\n",
    "    url = domain + endpoint\n",
    "    response = requests.get(url)\n",
    "    data = response.json()\n",
    "    # .extend adds elemnts from a list to another list\n",
    "    items.extend(data['payload']['items'])\n",
    "    endpoint = data['payload']['next_page']\n",
    "    print (endpoint)\n",
    "\n",
    "items = pd.DataFrame(data)\n",
    "#Creating items df:\n",
    "items=pd.DataFrame(items['payload']['items'])\n",
    "items"
   ]
  },
  {
   "cell_type": "markdown",
   "id": "e879efd4",
   "metadata": {},
   "source": [
    "_______________________________________________________"
   ]
  },
  {
   "cell_type": "markdown",
   "id": "b32ccb61",
   "metadata": {},
   "source": [
    "### Exercise 2) Pull stores"
   ]
  },
  {
   "cell_type": "code",
   "execution_count": 7,
   "id": "12d7a8e1",
   "metadata": {},
   "outputs": [
    {
     "data": {
      "text/plain": [
       "<Response [200]>"
      ]
     },
     "execution_count": 7,
     "metadata": {},
     "output_type": "execute_result"
    }
   ],
   "source": [
    "response = requests.get('https://python.zgulde.net/api/v1/stores')\n",
    "response"
   ]
  },
  {
   "cell_type": "code",
   "execution_count": 8,
   "id": "bd13c428",
   "metadata": {},
   "outputs": [
    {
     "name": "stdout",
     "output_type": "stream",
     "text": [
      "{\"payload\":{\"max_page\":1,\"next_page\":null,\"page\":1,\"previous_page\":null,\"stores\":[{\"store_address\":\"12125 Alamo Ranch Pkwy\",\"store_city\":\"San Antonio\",\"store_id\":1,\"store_state\":\"TX\",\"store_zipcode\":\"78253\"},{\"store_address\":\"9255 FM 471 West\",\"store_city\":\"San Antonio\",\"store_id\":2,\"store_state\":\"TX\",\"store_zipcode\":\"78251\"},{\"store_address\":\"2118 Fredericksburg Rdj\",\"store_city\":\"San Antonio\",\"store_id\":3,\"store_state\":\"TX\",\"store_zipcode\":\"78201\"},{\"store_address\":\"516 S Flores St\",\"store_city\":\"San Antonio\",\"store_id\":4,\"store_state\":\"TX\",\"store_zipcode\":\"78204\"},{\"store_address\":\"1520 Austin Hwy\",\"store_city\":\"San Antonio\",\"store_id\":5,\"store_state\":\"TX\",\"store_zipcode\":\"78218\"},{\"store_address\":\"1015 S WW White Rd\",\"store_city\":\"San Antonio\",\"store_id\":6,\"store_state\":\"TX\",\"store_zipcode\":\"78220\"},{\"store_address\":\"12018 Perrin Beitel Rd\",\"store_city\":\"San Antonio\",\"store_id\":7,\"store_state\":\"TX\",\"store_zipcode\":\"78217\"},{\"store_address\":\"15000 San Pedro Ave\",\"store_city\":\"San Antonio\",\"store_id\":8,\"store_state\":\"TX\",\"store_zipcode\":\"78232\"},{\"store_address\":\"735 SW Military Dr\",\"store_city\":\"San Antonio\",\"store_id\":9,\"store_state\":\"TX\",\"store_zipcode\":\"78221\"},{\"store_address\":\"8503 NW Military Hwy\",\"store_city\":\"San Antonio\",\"store_id\":10,\"store_state\":\"TX\",\"store_zipcode\":\"78231\"}]},\"status\":\"ok\"}\n",
      "\n"
     ]
    }
   ],
   "source": [
    "print(response.text)"
   ]
  },
  {
   "cell_type": "code",
   "execution_count": 9,
   "id": "b0b749e2",
   "metadata": {},
   "outputs": [
    {
     "data": {
      "text/plain": [
       "{'payload': {'max_page': 1,\n",
       "  'next_page': None,\n",
       "  'page': 1,\n",
       "  'previous_page': None,\n",
       "  'stores': [{'store_address': '12125 Alamo Ranch Pkwy',\n",
       "    'store_city': 'San Antonio',\n",
       "    'store_id': 1,\n",
       "    'store_state': 'TX',\n",
       "    'store_zipcode': '78253'},\n",
       "   {'store_address': '9255 FM 471 West',\n",
       "    'store_city': 'San Antonio',\n",
       "    'store_id': 2,\n",
       "    'store_state': 'TX',\n",
       "    'store_zipcode': '78251'},\n",
       "   {'store_address': '2118 Fredericksburg Rdj',\n",
       "    'store_city': 'San Antonio',\n",
       "    'store_id': 3,\n",
       "    'store_state': 'TX',\n",
       "    'store_zipcode': '78201'},\n",
       "   {'store_address': '516 S Flores St',\n",
       "    'store_city': 'San Antonio',\n",
       "    'store_id': 4,\n",
       "    'store_state': 'TX',\n",
       "    'store_zipcode': '78204'},\n",
       "   {'store_address': '1520 Austin Hwy',\n",
       "    'store_city': 'San Antonio',\n",
       "    'store_id': 5,\n",
       "    'store_state': 'TX',\n",
       "    'store_zipcode': '78218'},\n",
       "   {'store_address': '1015 S WW White Rd',\n",
       "    'store_city': 'San Antonio',\n",
       "    'store_id': 6,\n",
       "    'store_state': 'TX',\n",
       "    'store_zipcode': '78220'},\n",
       "   {'store_address': '12018 Perrin Beitel Rd',\n",
       "    'store_city': 'San Antonio',\n",
       "    'store_id': 7,\n",
       "    'store_state': 'TX',\n",
       "    'store_zipcode': '78217'},\n",
       "   {'store_address': '15000 San Pedro Ave',\n",
       "    'store_city': 'San Antonio',\n",
       "    'store_id': 8,\n",
       "    'store_state': 'TX',\n",
       "    'store_zipcode': '78232'},\n",
       "   {'store_address': '735 SW Military Dr',\n",
       "    'store_city': 'San Antonio',\n",
       "    'store_id': 9,\n",
       "    'store_state': 'TX',\n",
       "    'store_zipcode': '78221'},\n",
       "   {'store_address': '8503 NW Military Hwy',\n",
       "    'store_city': 'San Antonio',\n",
       "    'store_id': 10,\n",
       "    'store_state': 'TX',\n",
       "    'store_zipcode': '78231'}]},\n",
       " 'status': 'ok'}"
      ]
     },
     "execution_count": 9,
     "metadata": {},
     "output_type": "execute_result"
    }
   ],
   "source": [
    "data = response.json()\n",
    "data"
   ]
  },
  {
   "cell_type": "code",
   "execution_count": 10,
   "id": "ce65bd69",
   "metadata": {},
   "outputs": [
    {
     "data": {
      "text/html": [
       "<div>\n",
       "<style scoped>\n",
       "    .dataframe tbody tr th:only-of-type {\n",
       "        vertical-align: middle;\n",
       "    }\n",
       "\n",
       "    .dataframe tbody tr th {\n",
       "        vertical-align: top;\n",
       "    }\n",
       "\n",
       "    .dataframe thead th {\n",
       "        text-align: right;\n",
       "    }\n",
       "</style>\n",
       "<table border=\"1\" class=\"dataframe\">\n",
       "  <thead>\n",
       "    <tr style=\"text-align: right;\">\n",
       "      <th></th>\n",
       "      <th>store_address</th>\n",
       "      <th>store_city</th>\n",
       "      <th>store_id</th>\n",
       "      <th>store_state</th>\n",
       "      <th>store_zipcode</th>\n",
       "    </tr>\n",
       "  </thead>\n",
       "  <tbody>\n",
       "    <tr>\n",
       "      <th>0</th>\n",
       "      <td>12125 Alamo Ranch Pkwy</td>\n",
       "      <td>San Antonio</td>\n",
       "      <td>1</td>\n",
       "      <td>TX</td>\n",
       "      <td>78253</td>\n",
       "    </tr>\n",
       "    <tr>\n",
       "      <th>1</th>\n",
       "      <td>9255 FM 471 West</td>\n",
       "      <td>San Antonio</td>\n",
       "      <td>2</td>\n",
       "      <td>TX</td>\n",
       "      <td>78251</td>\n",
       "    </tr>\n",
       "    <tr>\n",
       "      <th>2</th>\n",
       "      <td>2118 Fredericksburg Rdj</td>\n",
       "      <td>San Antonio</td>\n",
       "      <td>3</td>\n",
       "      <td>TX</td>\n",
       "      <td>78201</td>\n",
       "    </tr>\n",
       "    <tr>\n",
       "      <th>3</th>\n",
       "      <td>516 S Flores St</td>\n",
       "      <td>San Antonio</td>\n",
       "      <td>4</td>\n",
       "      <td>TX</td>\n",
       "      <td>78204</td>\n",
       "    </tr>\n",
       "    <tr>\n",
       "      <th>4</th>\n",
       "      <td>1520 Austin Hwy</td>\n",
       "      <td>San Antonio</td>\n",
       "      <td>5</td>\n",
       "      <td>TX</td>\n",
       "      <td>78218</td>\n",
       "    </tr>\n",
       "    <tr>\n",
       "      <th>5</th>\n",
       "      <td>1015 S WW White Rd</td>\n",
       "      <td>San Antonio</td>\n",
       "      <td>6</td>\n",
       "      <td>TX</td>\n",
       "      <td>78220</td>\n",
       "    </tr>\n",
       "    <tr>\n",
       "      <th>6</th>\n",
       "      <td>12018 Perrin Beitel Rd</td>\n",
       "      <td>San Antonio</td>\n",
       "      <td>7</td>\n",
       "      <td>TX</td>\n",
       "      <td>78217</td>\n",
       "    </tr>\n",
       "    <tr>\n",
       "      <th>7</th>\n",
       "      <td>15000 San Pedro Ave</td>\n",
       "      <td>San Antonio</td>\n",
       "      <td>8</td>\n",
       "      <td>TX</td>\n",
       "      <td>78232</td>\n",
       "    </tr>\n",
       "    <tr>\n",
       "      <th>8</th>\n",
       "      <td>735 SW Military Dr</td>\n",
       "      <td>San Antonio</td>\n",
       "      <td>9</td>\n",
       "      <td>TX</td>\n",
       "      <td>78221</td>\n",
       "    </tr>\n",
       "    <tr>\n",
       "      <th>9</th>\n",
       "      <td>8503 NW Military Hwy</td>\n",
       "      <td>San Antonio</td>\n",
       "      <td>10</td>\n",
       "      <td>TX</td>\n",
       "      <td>78231</td>\n",
       "    </tr>\n",
       "  </tbody>\n",
       "</table>\n",
       "</div>"
      ],
      "text/plain": [
       "             store_address   store_city  store_id store_state store_zipcode\n",
       "0   12125 Alamo Ranch Pkwy  San Antonio         1          TX         78253\n",
       "1         9255 FM 471 West  San Antonio         2          TX         78251\n",
       "2  2118 Fredericksburg Rdj  San Antonio         3          TX         78201\n",
       "3          516 S Flores St  San Antonio         4          TX         78204\n",
       "4          1520 Austin Hwy  San Antonio         5          TX         78218\n",
       "5       1015 S WW White Rd  San Antonio         6          TX         78220\n",
       "6   12018 Perrin Beitel Rd  San Antonio         7          TX         78217\n",
       "7      15000 San Pedro Ave  San Antonio         8          TX         78232\n",
       "8       735 SW Military Dr  San Antonio         9          TX         78221\n",
       "9     8503 NW Military Hwy  San Antonio        10          TX         78231"
      ]
     },
     "execution_count": 10,
     "metadata": {},
     "output_type": "execute_result"
    }
   ],
   "source": [
    "#Creating items df:\n",
    "\n",
    "stores=pd.DataFrame(data['payload']['stores'])\n",
    "stores"
   ]
  },
  {
   "cell_type": "markdown",
   "id": "04cc16d2",
   "metadata": {},
   "source": [
    "___________________________________________________________________________________________________"
   ]
  },
  {
   "cell_type": "markdown",
   "id": "6f02118c",
   "metadata": {},
   "source": [
    "### Exercise 3):\n",
    "Extract the data for sales (https://python.zgulde.net/api/v1/sales). There are a lot of pages of data here, so your code will need to be a little more complex. Your code should continue fetching data from the next page until all of the data is extracted."
   ]
  },
  {
   "cell_type": "code",
   "execution_count": 11,
   "id": "aba520d3",
   "metadata": {},
   "outputs": [
    {
     "name": "stdout",
     "output_type": "stream",
     "text": [
      "Getting page 183 of 183: https://python.zgulde.net/api/v1/sales?page=183"
     ]
    }
   ],
   "source": [
    "domain = 'https://python.zgulde.net'\n",
    "endpoint = '/api/v1/sales'\n",
    "#the name of my lists I want to store things in:\n",
    "sales = []\n",
    "\n",
    "while True:\n",
    "    url = domain + endpoint\n",
    "    response = requests.get(url)\n",
    "    data = response.json()\n",
    "    print(f'\\rGetting page {data[\"payload\"][\"page\"]} of {data[\"payload\"][\"max_page\"]}: {url}', end='')\n",
    "    # .extend adds elemnts from a list to another list\n",
    "    sales.extend(data['payload']['sales'])\n",
    "    endpoint = data['payload']['next_page']\n",
    "    if endpoint is None:\n",
    "        break"
   ]
  },
  {
   "cell_type": "markdown",
   "id": "2657a863",
   "metadata": {},
   "source": [
    "# \"Dry-out\" the process into a function\n",
    "- DRY is a principle \"Don't Repeat Yourself\"\n",
    "- We often build functions once we know that the code we want is reusable and not bespoke\n",
    "- I'll build a function that takes in the string \"sales\", \"items\", or \"stores\""
   ]
  },
  {
   "cell_type": "code",
   "execution_count": 12,
   "id": "ddae80c9",
   "metadata": {},
   "outputs": [],
   "source": [
    "def get_all(endpoint):\n",
    "    \"\"\" Read all records on all pages \"\"\"\n",
    "    \n",
    "    if endpoint not in [\"sales\", \"items\", \"stores\"]:\n",
    "        return \"Not available from this API. Check the documentation\"\n",
    "    \n",
    "    host = \"https://python.zgulde.net/\"\n",
    "    api = \"api/v1/\"\n",
    "\n",
    "    url = host + api + endpoint\n",
    "\n",
    "    response = requests.get(url)\n",
    "\n",
    "    if response.ok:\n",
    "        payload = response.json()[\"payload\"]\n",
    "\n",
    "        # endpoint should be \"items\", \"sales\", or \"stores\"\n",
    "        contents = payload[endpoint]\n",
    "\n",
    "        # Make a dataframe of the contents\n",
    "        df = pd.DataFrame(contents)\n",
    "\n",
    "        next_page = payload[\"next_page\"]\n",
    "\n",
    "        while next_page:\n",
    "            # Append the next_page url piece\n",
    "            url = host + next_page\n",
    "            response = requests.get(url)\n",
    "\n",
    "            payload = response.json()[\"payload\"]\n",
    "\n",
    "            next_page = payload[\"next_page\"] \n",
    "            \n",
    "            print(f'\\rGetting page {payload[\"page\"]} of {payload[\"max_page\"]}: {url}', end='')      \n",
    "            \n",
    "            contents = payload[endpoint]\n",
    "\n",
    "            df = pd.concat([df, pd.DataFrame(contents)])\n",
    "\n",
    "            df = df.reset_index(drop=True)\n",
    "            \n",
    "    return df"
   ]
  },
  {
   "cell_type": "markdown",
   "id": "61d1f961",
   "metadata": {},
   "source": [
    "### Exercise 4):\n",
    "Save the data in your files to local csv files so that it will be faster to access in the future."
   ]
  },
  {
   "cell_type": "code",
   "execution_count": 13,
   "id": "930daea9",
   "metadata": {},
   "outputs": [
    {
     "ename": "AttributeError",
     "evalue": "'list' object has no attribute 'to_csv'",
     "output_type": "error",
     "traceback": [
      "\u001b[0;31m---------------------------------------------------------------------------\u001b[0m",
      "\u001b[0;31mAttributeError\u001b[0m                            Traceback (most recent call last)",
      "\u001b[0;32m/var/folders/d3/11nygz6126ndxvtrp12687680000gn/T/ipykernel_45754/1052174774.py\u001b[0m in \u001b[0;36m<module>\u001b[0;34m\u001b[0m\n\u001b[1;32m      2\u001b[0m \u001b[0mitems\u001b[0m\u001b[0;34m.\u001b[0m\u001b[0mto_csv\u001b[0m\u001b[0;34m(\u001b[0m\u001b[0;34m\"items.csv\"\u001b[0m\u001b[0;34m)\u001b[0m\u001b[0;34m\u001b[0m\u001b[0;34m\u001b[0m\u001b[0m\n\u001b[1;32m      3\u001b[0m \u001b[0mstores\u001b[0m\u001b[0;34m.\u001b[0m\u001b[0mto_csv\u001b[0m\u001b[0;34m(\u001b[0m\u001b[0;34m\"stores.csv\"\u001b[0m\u001b[0;34m)\u001b[0m\u001b[0;34m\u001b[0m\u001b[0;34m\u001b[0m\u001b[0m\n\u001b[0;32m----> 4\u001b[0;31m \u001b[0msales\u001b[0m\u001b[0;34m.\u001b[0m\u001b[0mto_csv\u001b[0m\u001b[0;34m(\u001b[0m\u001b[0;34m\"sales.csv\"\u001b[0m\u001b[0;34m)\u001b[0m\u001b[0;34m\u001b[0m\u001b[0;34m\u001b[0m\u001b[0m\n\u001b[0m",
      "\u001b[0;31mAttributeError\u001b[0m: 'list' object has no attribute 'to_csv'"
     ]
    }
   ],
   "source": [
    "# Write each dataframe to disk\n",
    "items.to_csv(\"items.csv\")\n",
    "stores.to_csv(\"stores.csv\")\n",
    "sales.to_csv(\"sales.csv\")"
   ]
  },
  {
   "cell_type": "code",
   "execution_count": null,
   "id": "cd104d04",
   "metadata": {},
   "outputs": [],
   "source": [
    "# Run this cell to tell your gitignore to ignore all CSV files \n",
    "# The ! in a jupyter notebook is a way to issue commands to the command line\n",
    "!echo \"*.csv\" >> .gitignore"
   ]
  },
  {
   "cell_type": "markdown",
   "id": "dc66a91c",
   "metadata": {},
   "source": [
    "### Exercise 5):\n",
    "Combine the data from your three separate dataframes into one large dataframe.\n",
    "\n",
    "Look for nulls to see if you need to left-join or if inner join will work..."
   ]
  },
  {
   "cell_type": "code",
   "execution_count": null,
   "id": "c4f3bebd",
   "metadata": {},
   "outputs": [],
   "source": [
    "sales.isna().sum()"
   ]
  },
  {
   "cell_type": "code",
   "execution_count": null,
   "id": "cc3db46f",
   "metadata": {},
   "outputs": [],
   "source": [
    "items.isna().sum()"
   ]
  },
  {
   "cell_type": "code",
   "execution_count": null,
   "id": "71ef7a44",
   "metadata": {},
   "outputs": [],
   "source": [
    "stores.isna().sum()"
   ]
  },
  {
   "cell_type": "code",
   "execution_count": null,
   "id": "5d45169e",
   "metadata": {},
   "outputs": [],
   "source": [
    "sales_and_stores = pd.merge(sales,\n",
    "                           stores,\n",
    "                           how=\"inner\",\n",
    "                           left_on=\"store\",\n",
    "                           right_on=\"store_id\")\n",
    "sales_and_stores.head()"
   ]
  },
  {
   "cell_type": "code",
   "execution_count": null,
   "id": "ded61f9a",
   "metadata": {},
   "outputs": [],
   "source": [
    "#merge everthing together:\n",
    "everything = pd.merge(sales_and_stores,\n",
    "                     items,\n",
    "                     how=\"inner\",\n",
    "                     left_on=\"item\",\n",
    "                     right_on=\"item_id\")\n",
    "everything.head()"
   ]
  },
  {
   "cell_type": "markdown",
   "id": "2dace063",
   "metadata": {},
   "source": [
    "### Exercise 6):\n",
    "Acquire the Open Power Systems Data for Germany, which has been rapidly expanding its renewable energy production in recent years. The data set includes country-wide totals of electricity consumption, wind power production, and solar power production for 2006-2017. You can get the data here: https://raw.githubusercontent.com/jenfly/opsd/master/opsd_germany_daily.csv"
   ]
  },
  {
   "cell_type": "code",
   "execution_count": null,
   "id": "9ad72835",
   "metadata": {},
   "outputs": [],
   "source": [
    "sheet_url = 'https://raw.githubusercontent.com/jenfly/opsd/master/opsd_germany_daily.csv'    \n",
    "\n",
    "df_ops_germany = pd.read_csv(sheet_url)\n",
    "df_ops_germany.head()\n"
   ]
  },
  {
   "cell_type": "markdown",
   "id": "08dec624",
   "metadata": {},
   "source": [
    "### Exercise 7):\n",
    "Make sure all the work that you have done above is reproducible. That is, you should put the code above into separate functions in the acquire.py file and be able to re-run the functions and get the same data."
   ]
  },
  {
   "cell_type": "code",
   "execution_count": null,
   "id": "63c93fd7",
   "metadata": {},
   "outputs": [],
   "source": []
  }
 ],
 "metadata": {
  "kernelspec": {
   "display_name": "Python 3 (ipykernel)",
   "language": "python",
   "name": "python3"
  },
  "language_info": {
   "codemirror_mode": {
    "name": "ipython",
    "version": 3
   },
   "file_extension": ".py",
   "mimetype": "text/x-python",
   "name": "python",
   "nbconvert_exporter": "python",
   "pygments_lexer": "ipython3",
   "version": "3.9.7"
  }
 },
 "nbformat": 4,
 "nbformat_minor": 5
}
