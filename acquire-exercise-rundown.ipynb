{
 "cells": [
  {
   "cell_type": "markdown",
   "id": "8f42f183",
   "metadata": {},
   "source": [
    "# Time Series- Acquire Exercises"
   ]
  },
  {
   "cell_type": "markdown",
   "id": "f457e04d",
   "metadata": {},
   "source": [
    "### Exercise 1)\n",
    "Using the code from the lesson as a guide and the REST API from https://python.zgulde.net/api/v1/items as we did in the lesson, create a dataframe named items that has all of the data for items."
   ]
  },
  {
   "cell_type": "code",
   "execution_count": 1,
   "id": "197fd5d4",
   "metadata": {},
   "outputs": [
    {
     "data": {
      "text/plain": [
       "<Response [200]>"
      ]
     },
     "execution_count": 1,
     "metadata": {},
     "output_type": "execute_result"
    }
   ],
   "source": [
    "import pandas as pd\n",
    "import requests\n",
    "\n",
    "#by using requests, it returns what that website status code is:\n",
    "items = requests.get('https://python.zgulde.net/api/v1/items')\n",
    "items"
   ]
  },
  {
   "cell_type": "code",
   "execution_count": 2,
   "id": "c8323190",
   "metadata": {},
   "outputs": [
    {
     "name": "stdout",
     "output_type": "stream",
     "text": [
      "{\"payload\":{\"items\":[{\"item_brand\":\"Riceland\",\"item_id\":1,\"item_name\":\"Riceland American Jazmine Rice\",\"item_price\":0.84,\"item_upc12\":\"35200264013\",\"item_upc14\":\"35200264013\"},{\"item_brand\":\"Caress\",\"item_id\":2,\"item_name\":\"Caress Velvet Bliss Ultra Silkening Beauty Bar - 6 Ct\",\"item_price\":6.44,\"item_upc12\":\"11111065925\",\"item_upc14\":\"11111065925\"},{\"item_brand\":\"Earths Best\",\"item_id\":3,\"item_name\":\"Earths Best Organic Fruit Yogurt Smoothie Mixed Berry\",\"item_price\":2.43,\"item_upc12\":\"23923330139\",\"item_upc14\":\"23923330139\"},{\"item_brand\":\"Boars Head\",\"item_id\":4,\"item_name\":\"Boars Head Sliced White American Cheese - 120 Ct\",\"item_price\":3.14,\"item_upc12\":\"208528800007\",\"item_upc14\":\"208528800007\"},{\"item_brand\":\"Back To Nature\",\"item_id\":5,\"item_name\":\"Back To Nature Gluten Free White Cheddar Rice Thin Crackers\",\"item_price\":2.61,\"item_upc12\":\"759283100036\",\"item_upc14\":\"759283100036\"},{\"item_brand\":\"Sally Hansen\",\"item_id\":6,\"item_name\":\"Sally Hansen Nail Color Magnetic 903 Silver Elements\",\"item_price\":6.93,\"item_upc12\":\"74170388732\",\"item_upc14\":\"74170388732\"},{\"item_brand\":\"Twinings Of London\",\"item_id\":7,\"item_name\":\"Twinings Of London Classics Lady Grey Tea - 20 Ct\",\"item_price\":9.64,\"item_upc12\":\"70177154004\",\"item_upc14\":\"70177154004\"},{\"item_brand\":\"Lea & Perrins\",\"item_id\":8,\"item_name\":\"Lea & Perrins Marinade In-a-bag Cracked Peppercorn\",\"item_price\":1.68,\"item_upc12\":\"51600080015\",\"item_upc14\":\"51600080015\"},{\"item_brand\":\"Van De Kamps\",\"item_id\":9,\"item_name\":\"Van De Kamps Fillets Beer Battered - 10 Ct\",\"item_price\":1.79,\"item_upc12\":\"19600923015\",\"item_upc14\":\"19600923015\"},{\"item_brand\":\"Ahold\",\"item_id\":10,\"item_name\":\"Ahold Cocoa Almonds\",\"item_price\":3.17,\"item_upc12\":\"688267141676\",\"item_upc14\":\"688267141676\"},{\"item_brand\":\"Honest Tea\",\"item_id\":11,\"item_name\":\"Honest Tea Peach White Tea\",\"item_price\":3.93,\"item_upc12\":\"657622604842\",\"item_upc14\":\"657622604842\"},{\"item_brand\":\"Mueller\",\"item_id\":12,\"item_name\":\"Mueller Sport Care Basic Support Level Medium Elastic Knee Support\",\"item_price\":8.4,\"item_upc12\":\"74676640211\",\"item_upc14\":\"74676640211\"},{\"item_brand\":\"Garnier Nutritioniste\",\"item_id\":13,\"item_name\":\"Garnier Nutritioniste Moisture Rescue Fresh Cleansing Foam\",\"item_price\":6.47,\"item_upc12\":\"603084234561\",\"item_upc14\":\"603084234561\"},{\"item_brand\":\"Pamprin\",\"item_id\":14,\"item_name\":\"Pamprin Maximum Strength Multi-symptom Menstrual Pain Relief\",\"item_price\":7.54,\"item_upc12\":\"41167300121\",\"item_upc14\":\"41167300121\"},{\"item_brand\":\"Suave\",\"item_id\":15,\"item_name\":\"Suave Naturals Moisturizing Body Wash Creamy Tropical Coconut\",\"item_price\":9.11,\"item_upc12\":\"79400847201\",\"item_upc14\":\"79400847201\"},{\"item_brand\":\"Burts Bees\",\"item_id\":16,\"item_name\":\"Burts Bees Daily Moisturizing Cream Sensitive\",\"item_price\":5.17,\"item_upc12\":\"792850014008\",\"item_upc14\":\"792850014008\"},{\"item_brand\":\"Ducal\",\"item_id\":17,\"item_name\":\"Ducal Refried Red Beans\",\"item_price\":1.16,\"item_upc12\":\"88313590791\",\"item_upc14\":\"88313590791\"},{\"item_brand\":\"Scotch\",\"item_id\":18,\"item_name\":\"Scotch Removable Clear Mounting Squares - 35 Ct\",\"item_price\":4.39,\"item_upc12\":\"21200725340\",\"item_upc14\":\"21200725340\"},{\"item_brand\":\"Careone\",\"item_id\":19,\"item_name\":\"Careone Family Comb Set - 8 Ct\",\"item_price\":0.74,\"item_upc12\":\"41520035646\",\"item_upc14\":\"41520035646\"},{\"item_brand\":\"Usda Produce\",\"item_id\":20,\"item_name\":\"Plums Black\",\"item_price\":5.62,\"item_upc12\":\"204040000000\",\"item_upc14\":\"204040000000\"}],\"max_page\":3,\"next_page\":\"/api/v1/items?page=2\",\"page\":1,\"previous_page\":null},\"status\":\"ok\"}\n",
      "\n"
     ]
    }
   ],
   "source": [
    "#response.text returns the raw html data of the website\n",
    "print(items.text)"
   ]
  },
  {
   "cell_type": "code",
   "execution_count": 3,
   "id": "8752d47e",
   "metadata": {},
   "outputs": [
    {
     "data": {
      "text/plain": [
       "{'payload': {'items': [{'item_brand': 'Riceland',\n",
       "    'item_id': 1,\n",
       "    'item_name': 'Riceland American Jazmine Rice',\n",
       "    'item_price': 0.84,\n",
       "    'item_upc12': '35200264013',\n",
       "    'item_upc14': '35200264013'},\n",
       "   {'item_brand': 'Caress',\n",
       "    'item_id': 2,\n",
       "    'item_name': 'Caress Velvet Bliss Ultra Silkening Beauty Bar - 6 Ct',\n",
       "    'item_price': 6.44,\n",
       "    'item_upc12': '11111065925',\n",
       "    'item_upc14': '11111065925'},\n",
       "   {'item_brand': 'Earths Best',\n",
       "    'item_id': 3,\n",
       "    'item_name': 'Earths Best Organic Fruit Yogurt Smoothie Mixed Berry',\n",
       "    'item_price': 2.43,\n",
       "    'item_upc12': '23923330139',\n",
       "    'item_upc14': '23923330139'},\n",
       "   {'item_brand': 'Boars Head',\n",
       "    'item_id': 4,\n",
       "    'item_name': 'Boars Head Sliced White American Cheese - 120 Ct',\n",
       "    'item_price': 3.14,\n",
       "    'item_upc12': '208528800007',\n",
       "    'item_upc14': '208528800007'},\n",
       "   {'item_brand': 'Back To Nature',\n",
       "    'item_id': 5,\n",
       "    'item_name': 'Back To Nature Gluten Free White Cheddar Rice Thin Crackers',\n",
       "    'item_price': 2.61,\n",
       "    'item_upc12': '759283100036',\n",
       "    'item_upc14': '759283100036'},\n",
       "   {'item_brand': 'Sally Hansen',\n",
       "    'item_id': 6,\n",
       "    'item_name': 'Sally Hansen Nail Color Magnetic 903 Silver Elements',\n",
       "    'item_price': 6.93,\n",
       "    'item_upc12': '74170388732',\n",
       "    'item_upc14': '74170388732'},\n",
       "   {'item_brand': 'Twinings Of London',\n",
       "    'item_id': 7,\n",
       "    'item_name': 'Twinings Of London Classics Lady Grey Tea - 20 Ct',\n",
       "    'item_price': 9.64,\n",
       "    'item_upc12': '70177154004',\n",
       "    'item_upc14': '70177154004'},\n",
       "   {'item_brand': 'Lea & Perrins',\n",
       "    'item_id': 8,\n",
       "    'item_name': 'Lea & Perrins Marinade In-a-bag Cracked Peppercorn',\n",
       "    'item_price': 1.68,\n",
       "    'item_upc12': '51600080015',\n",
       "    'item_upc14': '51600080015'},\n",
       "   {'item_brand': 'Van De Kamps',\n",
       "    'item_id': 9,\n",
       "    'item_name': 'Van De Kamps Fillets Beer Battered - 10 Ct',\n",
       "    'item_price': 1.79,\n",
       "    'item_upc12': '19600923015',\n",
       "    'item_upc14': '19600923015'},\n",
       "   {'item_brand': 'Ahold',\n",
       "    'item_id': 10,\n",
       "    'item_name': 'Ahold Cocoa Almonds',\n",
       "    'item_price': 3.17,\n",
       "    'item_upc12': '688267141676',\n",
       "    'item_upc14': '688267141676'},\n",
       "   {'item_brand': 'Honest Tea',\n",
       "    'item_id': 11,\n",
       "    'item_name': 'Honest Tea Peach White Tea',\n",
       "    'item_price': 3.93,\n",
       "    'item_upc12': '657622604842',\n",
       "    'item_upc14': '657622604842'},\n",
       "   {'item_brand': 'Mueller',\n",
       "    'item_id': 12,\n",
       "    'item_name': 'Mueller Sport Care Basic Support Level Medium Elastic Knee Support',\n",
       "    'item_price': 8.4,\n",
       "    'item_upc12': '74676640211',\n",
       "    'item_upc14': '74676640211'},\n",
       "   {'item_brand': 'Garnier Nutritioniste',\n",
       "    'item_id': 13,\n",
       "    'item_name': 'Garnier Nutritioniste Moisture Rescue Fresh Cleansing Foam',\n",
       "    'item_price': 6.47,\n",
       "    'item_upc12': '603084234561',\n",
       "    'item_upc14': '603084234561'},\n",
       "   {'item_brand': 'Pamprin',\n",
       "    'item_id': 14,\n",
       "    'item_name': 'Pamprin Maximum Strength Multi-symptom Menstrual Pain Relief',\n",
       "    'item_price': 7.54,\n",
       "    'item_upc12': '41167300121',\n",
       "    'item_upc14': '41167300121'},\n",
       "   {'item_brand': 'Suave',\n",
       "    'item_id': 15,\n",
       "    'item_name': 'Suave Naturals Moisturizing Body Wash Creamy Tropical Coconut',\n",
       "    'item_price': 9.11,\n",
       "    'item_upc12': '79400847201',\n",
       "    'item_upc14': '79400847201'},\n",
       "   {'item_brand': 'Burts Bees',\n",
       "    'item_id': 16,\n",
       "    'item_name': 'Burts Bees Daily Moisturizing Cream Sensitive',\n",
       "    'item_price': 5.17,\n",
       "    'item_upc12': '792850014008',\n",
       "    'item_upc14': '792850014008'},\n",
       "   {'item_brand': 'Ducal',\n",
       "    'item_id': 17,\n",
       "    'item_name': 'Ducal Refried Red Beans',\n",
       "    'item_price': 1.16,\n",
       "    'item_upc12': '88313590791',\n",
       "    'item_upc14': '88313590791'},\n",
       "   {'item_brand': 'Scotch',\n",
       "    'item_id': 18,\n",
       "    'item_name': 'Scotch Removable Clear Mounting Squares - 35 Ct',\n",
       "    'item_price': 4.39,\n",
       "    'item_upc12': '21200725340',\n",
       "    'item_upc14': '21200725340'},\n",
       "   {'item_brand': 'Careone',\n",
       "    'item_id': 19,\n",
       "    'item_name': 'Careone Family Comb Set - 8 Ct',\n",
       "    'item_price': 0.74,\n",
       "    'item_upc12': '41520035646',\n",
       "    'item_upc14': '41520035646'},\n",
       "   {'item_brand': 'Usda Produce',\n",
       "    'item_id': 20,\n",
       "    'item_name': 'Plums Black',\n",
       "    'item_price': 5.62,\n",
       "    'item_upc12': '204040000000',\n",
       "    'item_upc14': '204040000000'}],\n",
       "  'max_page': 3,\n",
       "  'next_page': '/api/v1/items?page=2',\n",
       "  'page': 1,\n",
       "  'previous_page': None},\n",
       " 'status': 'ok'}"
      ]
     },
     "execution_count": 3,
     "metadata": {},
     "output_type": "execute_result"
    }
   ],
   "source": [
    "#we can request and clarify to make the request a JSON (structured dictionary)\n",
    "items = items.json()\n",
    "items"
   ]
  },
  {
   "cell_type": "code",
   "execution_count": 4,
   "id": "735a0c5a",
   "metadata": {},
   "outputs": [
    {
     "data": {
      "text/plain": [
       "{'items': [{'item_brand': 'Riceland',\n",
       "   'item_id': 1,\n",
       "   'item_name': 'Riceland American Jazmine Rice',\n",
       "   'item_price': 0.84,\n",
       "   'item_upc12': '35200264013',\n",
       "   'item_upc14': '35200264013'},\n",
       "  {'item_brand': 'Caress',\n",
       "   'item_id': 2,\n",
       "   'item_name': 'Caress Velvet Bliss Ultra Silkening Beauty Bar - 6 Ct',\n",
       "   'item_price': 6.44,\n",
       "   'item_upc12': '11111065925',\n",
       "   'item_upc14': '11111065925'},\n",
       "  {'item_brand': 'Earths Best',\n",
       "   'item_id': 3,\n",
       "   'item_name': 'Earths Best Organic Fruit Yogurt Smoothie Mixed Berry',\n",
       "   'item_price': 2.43,\n",
       "   'item_upc12': '23923330139',\n",
       "   'item_upc14': '23923330139'},\n",
       "  {'item_brand': 'Boars Head',\n",
       "   'item_id': 4,\n",
       "   'item_name': 'Boars Head Sliced White American Cheese - 120 Ct',\n",
       "   'item_price': 3.14,\n",
       "   'item_upc12': '208528800007',\n",
       "   'item_upc14': '208528800007'},\n",
       "  {'item_brand': 'Back To Nature',\n",
       "   'item_id': 5,\n",
       "   'item_name': 'Back To Nature Gluten Free White Cheddar Rice Thin Crackers',\n",
       "   'item_price': 2.61,\n",
       "   'item_upc12': '759283100036',\n",
       "   'item_upc14': '759283100036'},\n",
       "  {'item_brand': 'Sally Hansen',\n",
       "   'item_id': 6,\n",
       "   'item_name': 'Sally Hansen Nail Color Magnetic 903 Silver Elements',\n",
       "   'item_price': 6.93,\n",
       "   'item_upc12': '74170388732',\n",
       "   'item_upc14': '74170388732'},\n",
       "  {'item_brand': 'Twinings Of London',\n",
       "   'item_id': 7,\n",
       "   'item_name': 'Twinings Of London Classics Lady Grey Tea - 20 Ct',\n",
       "   'item_price': 9.64,\n",
       "   'item_upc12': '70177154004',\n",
       "   'item_upc14': '70177154004'},\n",
       "  {'item_brand': 'Lea & Perrins',\n",
       "   'item_id': 8,\n",
       "   'item_name': 'Lea & Perrins Marinade In-a-bag Cracked Peppercorn',\n",
       "   'item_price': 1.68,\n",
       "   'item_upc12': '51600080015',\n",
       "   'item_upc14': '51600080015'},\n",
       "  {'item_brand': 'Van De Kamps',\n",
       "   'item_id': 9,\n",
       "   'item_name': 'Van De Kamps Fillets Beer Battered - 10 Ct',\n",
       "   'item_price': 1.79,\n",
       "   'item_upc12': '19600923015',\n",
       "   'item_upc14': '19600923015'},\n",
       "  {'item_brand': 'Ahold',\n",
       "   'item_id': 10,\n",
       "   'item_name': 'Ahold Cocoa Almonds',\n",
       "   'item_price': 3.17,\n",
       "   'item_upc12': '688267141676',\n",
       "   'item_upc14': '688267141676'},\n",
       "  {'item_brand': 'Honest Tea',\n",
       "   'item_id': 11,\n",
       "   'item_name': 'Honest Tea Peach White Tea',\n",
       "   'item_price': 3.93,\n",
       "   'item_upc12': '657622604842',\n",
       "   'item_upc14': '657622604842'},\n",
       "  {'item_brand': 'Mueller',\n",
       "   'item_id': 12,\n",
       "   'item_name': 'Mueller Sport Care Basic Support Level Medium Elastic Knee Support',\n",
       "   'item_price': 8.4,\n",
       "   'item_upc12': '74676640211',\n",
       "   'item_upc14': '74676640211'},\n",
       "  {'item_brand': 'Garnier Nutritioniste',\n",
       "   'item_id': 13,\n",
       "   'item_name': 'Garnier Nutritioniste Moisture Rescue Fresh Cleansing Foam',\n",
       "   'item_price': 6.47,\n",
       "   'item_upc12': '603084234561',\n",
       "   'item_upc14': '603084234561'},\n",
       "  {'item_brand': 'Pamprin',\n",
       "   'item_id': 14,\n",
       "   'item_name': 'Pamprin Maximum Strength Multi-symptom Menstrual Pain Relief',\n",
       "   'item_price': 7.54,\n",
       "   'item_upc12': '41167300121',\n",
       "   'item_upc14': '41167300121'},\n",
       "  {'item_brand': 'Suave',\n",
       "   'item_id': 15,\n",
       "   'item_name': 'Suave Naturals Moisturizing Body Wash Creamy Tropical Coconut',\n",
       "   'item_price': 9.11,\n",
       "   'item_upc12': '79400847201',\n",
       "   'item_upc14': '79400847201'},\n",
       "  {'item_brand': 'Burts Bees',\n",
       "   'item_id': 16,\n",
       "   'item_name': 'Burts Bees Daily Moisturizing Cream Sensitive',\n",
       "   'item_price': 5.17,\n",
       "   'item_upc12': '792850014008',\n",
       "   'item_upc14': '792850014008'},\n",
       "  {'item_brand': 'Ducal',\n",
       "   'item_id': 17,\n",
       "   'item_name': 'Ducal Refried Red Beans',\n",
       "   'item_price': 1.16,\n",
       "   'item_upc12': '88313590791',\n",
       "   'item_upc14': '88313590791'},\n",
       "  {'item_brand': 'Scotch',\n",
       "   'item_id': 18,\n",
       "   'item_name': 'Scotch Removable Clear Mounting Squares - 35 Ct',\n",
       "   'item_price': 4.39,\n",
       "   'item_upc12': '21200725340',\n",
       "   'item_upc14': '21200725340'},\n",
       "  {'item_brand': 'Careone',\n",
       "   'item_id': 19,\n",
       "   'item_name': 'Careone Family Comb Set - 8 Ct',\n",
       "   'item_price': 0.74,\n",
       "   'item_upc12': '41520035646',\n",
       "   'item_upc14': '41520035646'},\n",
       "  {'item_brand': 'Usda Produce',\n",
       "   'item_id': 20,\n",
       "   'item_name': 'Plums Black',\n",
       "   'item_price': 5.62,\n",
       "   'item_upc12': '204040000000',\n",
       "   'item_upc14': '204040000000'}],\n",
       " 'max_page': 3,\n",
       " 'next_page': '/api/v1/items?page=2',\n",
       " 'page': 1,\n",
       " 'previous_page': None}"
      ]
     },
     "execution_count": 4,
     "metadata": {},
     "output_type": "execute_result"
    }
   ],
   "source": [
    "items['payload']"
   ]
  },
  {
   "cell_type": "code",
   "execution_count": 5,
   "id": "d8932af1",
   "metadata": {},
   "outputs": [
    {
     "data": {
      "text/plain": [
       "dict_keys(['items', 'max_page', 'next_page', 'page', 'previous_page'])"
      ]
     },
     "execution_count": 5,
     "metadata": {},
     "output_type": "execute_result"
    }
   ],
   "source": [
    "#what are keys in payload?\n",
    "items['payload'].keys()"
   ]
  },
  {
   "cell_type": "code",
   "execution_count": 6,
   "id": "f9df5f58",
   "metadata": {},
   "outputs": [
    {
     "name": "stdout",
     "output_type": "stream",
     "text": [
      "/api/v1/items?page=2\n",
      "/api/v1/items?page=3\n",
      "None\n"
     ]
    },
    {
     "ename": "KeyError",
     "evalue": "'payload'",
     "output_type": "error",
     "traceback": [
      "\u001b[0;31m---------------------------------------------------------------------------\u001b[0m",
      "\u001b[0;31mKeyError\u001b[0m                                  Traceback (most recent call last)",
      "\u001b[0;32m/usr/local/anaconda3/lib/python3.9/site-packages/pandas/core/indexes/base.py\u001b[0m in \u001b[0;36mget_loc\u001b[0;34m(self, key, method, tolerance)\u001b[0m\n\u001b[1;32m   3360\u001b[0m             \u001b[0;32mtry\u001b[0m\u001b[0;34m:\u001b[0m\u001b[0;34m\u001b[0m\u001b[0;34m\u001b[0m\u001b[0m\n\u001b[0;32m-> 3361\u001b[0;31m                 \u001b[0;32mreturn\u001b[0m \u001b[0mself\u001b[0m\u001b[0;34m.\u001b[0m\u001b[0m_engine\u001b[0m\u001b[0;34m.\u001b[0m\u001b[0mget_loc\u001b[0m\u001b[0;34m(\u001b[0m\u001b[0mcasted_key\u001b[0m\u001b[0;34m)\u001b[0m\u001b[0;34m\u001b[0m\u001b[0;34m\u001b[0m\u001b[0m\n\u001b[0m\u001b[1;32m   3362\u001b[0m             \u001b[0;32mexcept\u001b[0m \u001b[0mKeyError\u001b[0m \u001b[0;32mas\u001b[0m \u001b[0merr\u001b[0m\u001b[0;34m:\u001b[0m\u001b[0;34m\u001b[0m\u001b[0;34m\u001b[0m\u001b[0m\n",
      "\u001b[0;32m/usr/local/anaconda3/lib/python3.9/site-packages/pandas/_libs/index.pyx\u001b[0m in \u001b[0;36mpandas._libs.index.IndexEngine.get_loc\u001b[0;34m()\u001b[0m\n",
      "\u001b[0;32m/usr/local/anaconda3/lib/python3.9/site-packages/pandas/_libs/index.pyx\u001b[0m in \u001b[0;36mpandas._libs.index.IndexEngine.get_loc\u001b[0;34m()\u001b[0m\n",
      "\u001b[0;32mpandas/_libs/hashtable_class_helper.pxi\u001b[0m in \u001b[0;36mpandas._libs.hashtable.PyObjectHashTable.get_item\u001b[0;34m()\u001b[0m\n",
      "\u001b[0;32mpandas/_libs/hashtable_class_helper.pxi\u001b[0m in \u001b[0;36mpandas._libs.hashtable.PyObjectHashTable.get_item\u001b[0;34m()\u001b[0m\n",
      "\u001b[0;31mKeyError\u001b[0m: 'payload'",
      "\nThe above exception was the direct cause of the following exception:\n",
      "\u001b[0;31mKeyError\u001b[0m                                  Traceback (most recent call last)",
      "\u001b[0;32m/var/folders/d3/11nygz6126ndxvtrp12687680000gn/T/ipykernel_34635/2720677869.py\u001b[0m in \u001b[0;36m<module>\u001b[0;34m\u001b[0m\n\u001b[1;32m     15\u001b[0m \u001b[0mitems\u001b[0m \u001b[0;34m=\u001b[0m \u001b[0mpd\u001b[0m\u001b[0;34m.\u001b[0m\u001b[0mDataFrame\u001b[0m\u001b[0;34m(\u001b[0m\u001b[0mitems\u001b[0m\u001b[0;34m)\u001b[0m\u001b[0;34m\u001b[0m\u001b[0;34m\u001b[0m\u001b[0m\n\u001b[1;32m     16\u001b[0m \u001b[0;31m#Creating items df:\u001b[0m\u001b[0;34m\u001b[0m\u001b[0;34m\u001b[0m\u001b[0m\n\u001b[0;32m---> 17\u001b[0;31m \u001b[0mitems\u001b[0m\u001b[0;34m=\u001b[0m\u001b[0mpd\u001b[0m\u001b[0;34m.\u001b[0m\u001b[0mDataFrame\u001b[0m\u001b[0;34m(\u001b[0m\u001b[0mitems\u001b[0m\u001b[0;34m[\u001b[0m\u001b[0;34m'payload'\u001b[0m\u001b[0;34m]\u001b[0m\u001b[0;34m[\u001b[0m\u001b[0;34m'items'\u001b[0m\u001b[0;34m]\u001b[0m\u001b[0;34m)\u001b[0m\u001b[0;34m\u001b[0m\u001b[0;34m\u001b[0m\u001b[0m\n\u001b[0m\u001b[1;32m     18\u001b[0m \u001b[0mitems\u001b[0m\u001b[0;34m\u001b[0m\u001b[0;34m\u001b[0m\u001b[0m\n",
      "\u001b[0;32m/usr/local/anaconda3/lib/python3.9/site-packages/pandas/core/frame.py\u001b[0m in \u001b[0;36m__getitem__\u001b[0;34m(self, key)\u001b[0m\n\u001b[1;32m   3456\u001b[0m             \u001b[0;32mif\u001b[0m \u001b[0mself\u001b[0m\u001b[0;34m.\u001b[0m\u001b[0mcolumns\u001b[0m\u001b[0;34m.\u001b[0m\u001b[0mnlevels\u001b[0m \u001b[0;34m>\u001b[0m \u001b[0;36m1\u001b[0m\u001b[0;34m:\u001b[0m\u001b[0;34m\u001b[0m\u001b[0;34m\u001b[0m\u001b[0m\n\u001b[1;32m   3457\u001b[0m                 \u001b[0;32mreturn\u001b[0m \u001b[0mself\u001b[0m\u001b[0;34m.\u001b[0m\u001b[0m_getitem_multilevel\u001b[0m\u001b[0;34m(\u001b[0m\u001b[0mkey\u001b[0m\u001b[0;34m)\u001b[0m\u001b[0;34m\u001b[0m\u001b[0;34m\u001b[0m\u001b[0m\n\u001b[0;32m-> 3458\u001b[0;31m             \u001b[0mindexer\u001b[0m \u001b[0;34m=\u001b[0m \u001b[0mself\u001b[0m\u001b[0;34m.\u001b[0m\u001b[0mcolumns\u001b[0m\u001b[0;34m.\u001b[0m\u001b[0mget_loc\u001b[0m\u001b[0;34m(\u001b[0m\u001b[0mkey\u001b[0m\u001b[0;34m)\u001b[0m\u001b[0;34m\u001b[0m\u001b[0;34m\u001b[0m\u001b[0m\n\u001b[0m\u001b[1;32m   3459\u001b[0m             \u001b[0;32mif\u001b[0m \u001b[0mis_integer\u001b[0m\u001b[0;34m(\u001b[0m\u001b[0mindexer\u001b[0m\u001b[0;34m)\u001b[0m\u001b[0;34m:\u001b[0m\u001b[0;34m\u001b[0m\u001b[0;34m\u001b[0m\u001b[0m\n\u001b[1;32m   3460\u001b[0m                 \u001b[0mindexer\u001b[0m \u001b[0;34m=\u001b[0m \u001b[0;34m[\u001b[0m\u001b[0mindexer\u001b[0m\u001b[0;34m]\u001b[0m\u001b[0;34m\u001b[0m\u001b[0;34m\u001b[0m\u001b[0m\n",
      "\u001b[0;32m/usr/local/anaconda3/lib/python3.9/site-packages/pandas/core/indexes/base.py\u001b[0m in \u001b[0;36mget_loc\u001b[0;34m(self, key, method, tolerance)\u001b[0m\n\u001b[1;32m   3361\u001b[0m                 \u001b[0;32mreturn\u001b[0m \u001b[0mself\u001b[0m\u001b[0;34m.\u001b[0m\u001b[0m_engine\u001b[0m\u001b[0;34m.\u001b[0m\u001b[0mget_loc\u001b[0m\u001b[0;34m(\u001b[0m\u001b[0mcasted_key\u001b[0m\u001b[0;34m)\u001b[0m\u001b[0;34m\u001b[0m\u001b[0;34m\u001b[0m\u001b[0m\n\u001b[1;32m   3362\u001b[0m             \u001b[0;32mexcept\u001b[0m \u001b[0mKeyError\u001b[0m \u001b[0;32mas\u001b[0m \u001b[0merr\u001b[0m\u001b[0;34m:\u001b[0m\u001b[0;34m\u001b[0m\u001b[0;34m\u001b[0m\u001b[0m\n\u001b[0;32m-> 3363\u001b[0;31m                 \u001b[0;32mraise\u001b[0m \u001b[0mKeyError\u001b[0m\u001b[0;34m(\u001b[0m\u001b[0mkey\u001b[0m\u001b[0;34m)\u001b[0m \u001b[0;32mfrom\u001b[0m \u001b[0merr\u001b[0m\u001b[0;34m\u001b[0m\u001b[0;34m\u001b[0m\u001b[0m\n\u001b[0m\u001b[1;32m   3364\u001b[0m \u001b[0;34m\u001b[0m\u001b[0m\n\u001b[1;32m   3365\u001b[0m         \u001b[0;32mif\u001b[0m \u001b[0mis_scalar\u001b[0m\u001b[0;34m(\u001b[0m\u001b[0mkey\u001b[0m\u001b[0;34m)\u001b[0m \u001b[0;32mand\u001b[0m \u001b[0misna\u001b[0m\u001b[0;34m(\u001b[0m\u001b[0mkey\u001b[0m\u001b[0;34m)\u001b[0m \u001b[0;32mand\u001b[0m \u001b[0;32mnot\u001b[0m \u001b[0mself\u001b[0m\u001b[0;34m.\u001b[0m\u001b[0mhasnans\u001b[0m\u001b[0;34m:\u001b[0m\u001b[0;34m\u001b[0m\u001b[0;34m\u001b[0m\u001b[0m\n",
      "\u001b[0;31mKeyError\u001b[0m: 'payload'"
     ]
    }
   ],
   "source": [
    "domain = 'https://python.zgulde.net'\n",
    "endpoint = '/api/v1/items'\n",
    "#the name of my lists I want to store things in:\n",
    "items = []\n",
    "\n",
    "while endpoint != None:\n",
    "    url = domain + endpoint\n",
    "    response = requests.get(url)\n",
    "    data = response.json()\n",
    "    # .extend adds elemnts from a list to another list\n",
    "    items.extend(data['payload']['items'])\n",
    "    endpoint = data['payload']['next_page']\n",
    "    print (endpoint)\n",
    "\n",
    "items = pd.DataFrame(items)\n",
    "#Creating items df:\n",
    "items=pd.DataFrame(items['payload']['items'])\n",
    "items"
   ]
  },
  {
   "cell_type": "markdown",
   "id": "fcdf189e",
   "metadata": {},
   "source": [
    "_______________________________________________________"
   ]
  },
  {
   "cell_type": "code",
   "execution_count": null,
   "id": "550e0096",
   "metadata": {},
   "outputs": [],
   "source": [
    "stores = requests.get('https://python.zgulde.net/api/v1/stores')\n",
    "stores"
   ]
  },
  {
   "cell_type": "code",
   "execution_count": null,
   "id": "2b95a17b",
   "metadata": {},
   "outputs": [],
   "source": [
    "print(stores.text)"
   ]
  },
  {
   "cell_type": "code",
   "execution_count": null,
   "id": "a2754a37",
   "metadata": {},
   "outputs": [],
   "source": [
    "stores = stores.json()\n",
    "stores"
   ]
  },
  {
   "cell_type": "code",
   "execution_count": null,
   "id": "244c5172",
   "metadata": {},
   "outputs": [],
   "source": [
    "#Creating items df:\n",
    "\n",
    "stores=pd.DataFrame(stores['payload']['stores'])\n",
    "stores"
   ]
  },
  {
   "cell_type": "markdown",
   "id": "6fb3194f",
   "metadata": {},
   "source": [
    "___________________________________________________________________________________________________"
   ]
  },
  {
   "cell_type": "markdown",
   "id": "c9993903",
   "metadata": {},
   "source": [
    "### Exercise 3):\n",
    "Extract the data for sales (https://python.zgulde.net/api/v1/sales). There are a lot of pages of data here, so your code will need to be a little more complex. Your code should continue fetching data from the next page until all of the data is extracted."
   ]
  },
  {
   "cell_type": "code",
   "execution_count": null,
   "id": "4815616a",
   "metadata": {},
   "outputs": [],
   "source": [
    "domain = 'https://python.zgulde.net'\n",
    "endpoint = '/api/v1/sales'\n",
    "#the name of my lists I want to store things in:\n",
    "sales = []\n",
    "\n",
    "while endpoint != None:\n",
    "    url = domain + endpoint\n",
    "    response = requests.get(url)\n",
    "    data = response.json()\n",
    "    # .extend adds elemnts from a list to another list\n",
    "    sales.extend(data['payload']['sales'])\n",
    "    endpoint = data['payload']['next_page']\n",
    "    print (endpoint)\n",
    "\n",
    "sales = pd.DataFrame(sales)"
   ]
  },
  {
   "cell_type": "markdown",
   "id": "b2b3e725",
   "metadata": {},
   "source": [
    "### Exercise 4):\n",
    "Save the data in your files to local csv files so that it will be faster to access in the future."
   ]
  },
  {
   "cell_type": "code",
   "execution_count": null,
   "id": "4eacdc87",
   "metadata": {},
   "outputs": [],
   "source": [
    "import os\n",
    "\n",
    "def get_zillow_data():\n",
    "    filename = \"payload.csv\"\n",
    "\n",
    "    if os.path.isfile(filename):\n",
    "        return pd.read_csv(filename)\n",
    "    else:\n",
    "        return get_new_zillow_data()"
   ]
  },
  {
   "cell_type": "markdown",
   "id": "c8859839",
   "metadata": {},
   "source": [
    "### Exercise 5):\n",
    "Combine the data from your three separate dataframes into one large dataframe."
   ]
  },
  {
   "cell_type": "code",
   "execution_count": null,
   "id": "2d7cbddd",
   "metadata": {},
   "outputs": [],
   "source": [
    "df = pd.concat([sales, items, stores],axis=0,\n",
    "    join=\"outer\").reset_index()\n",
    "df"
   ]
  },
  {
   "cell_type": "markdown",
   "id": "9d8bc1fa",
   "metadata": {},
   "source": [
    "### Exercise 6):\n",
    "Acquire the Open Power Systems Data for Germany, which has been rapidly expanding its renewable energy production in recent years. The data set includes country-wide totals of electricity consumption, wind power production, and solar power production for 2006-2017. You can get the data here: https://raw.githubusercontent.com/jenfly/opsd/master/opsd_germany_daily.csv"
   ]
  },
  {
   "cell_type": "code",
   "execution_count": null,
   "id": "75c2fd07",
   "metadata": {},
   "outputs": [],
   "source": [
    "sheet_url = 'https://raw.githubusercontent.com/jenfly/opsd/master/opsd_germany_daily.csv'    \n",
    "\n",
    "df_ops_germany = pd.read_csv(sheet_url)\n",
    "df_ops_germany.head()\n"
   ]
  },
  {
   "cell_type": "markdown",
   "id": "4a4229fa",
   "metadata": {},
   "source": [
    "### Exercise 7):\n",
    "Make sure all the work that you have done above is reproducible. That is, you should put the code above into separate functions in the acquire.py file and be able to re-run the functions and get the same data."
   ]
  },
  {
   "cell_type": "code",
   "execution_count": null,
   "id": "de787a7b",
   "metadata": {},
   "outputs": [],
   "source": []
  }
 ],
 "metadata": {
  "kernelspec": {
   "display_name": "Python 3 (ipykernel)",
   "language": "python",
   "name": "python3"
  },
  "language_info": {
   "codemirror_mode": {
    "name": "ipython",
    "version": 3
   },
   "file_extension": ".py",
   "mimetype": "text/x-python",
   "name": "python",
   "nbconvert_exporter": "python",
   "pygments_lexer": "ipython3",
   "version": "3.9.7"
  }
 },
 "nbformat": 4,
 "nbformat_minor": 5
}
